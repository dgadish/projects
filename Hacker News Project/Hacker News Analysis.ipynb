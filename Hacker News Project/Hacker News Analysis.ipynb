{
 "cells": [
  {
   "cell_type": "markdown",
   "metadata": {},
   "source": [
    "## Introduction\n",
    "\n",
    "This is a guided project from the Dataquest 'Python for Data Science: Intermediate' course. It will be indicated where text and code is taken from or with guidance from the course.\n",
    "\n",
    "*From the course*\n",
    "\n",
    "This project will be working with a data set of submissions to Hacker News. Hacker News is a site started by Y Combinator. Users submit stories which are then voted and commented on. It is extremely popular in technology and startup circles and posts that make it to the top of the listings can recieve large numbers of visistors as a result.\n",
    "\n",
    "The full data set is taken from [Kaggle](https://www.kaggle.com/hacker-news/hacker-news-posts). However, for the purposes of the project, a reduced version has been provided by [Dataquest](https://app.dataquest.io/jupyter/edit/notebook/hacker_news.csv). This reduced version brings the data from approximately 300,000 rows to around 20,000 by removing submissions with no comments and then randomly sampling the remaining submissions.\n",
    "\n",
    "The columns are described as:\n",
    "\n",
    "* `id`: The unique identifier from Hacker News for the post\n",
    "\n",
    "* `title`: The title of the post\n",
    "\n",
    "* `url`: The URL that the posts links to, if it the post has a URL\n",
    "\n",
    "* `num_points`: The number of points the post acquired, calculated as the total number of upvotes minus the total number of downvotes\n",
    "\n",
    "* `num_comments`: The number of comments that were made on the post\n",
    "\n",
    "* `author`: The username of the person who submitted the post\n",
    "\n",
    "* `created_at`: The date and time at which the post was submitted\n",
    "\n",
    "The time zone is Eastern Time in the US and so should be converted at the end to local time as appropriate.\n",
    "\n",
    "This project will be specifically interested in posts whose titles begin with `Ask HN` or `Show HN`. These are posts to the community asking questions or showing them something.\n",
    "\n",
    "These posts will be compared to determine:\n",
    "\n",
    "* Do `Ask HN` or `Show HN` receive more comments on average?\n",
    "\n",
    "* Do posts created at a certain time receive more comments on average?\n",
    "\n",
    "---"
   ]
  },
  {
   "cell_type": "markdown",
   "metadata": {},
   "source": [
    "*With course suggestions*\n",
    "\n",
    "We will start by reading in the dataset:"
   ]
  },
  {
   "cell_type": "code",
   "execution_count": 11,
   "metadata": {},
   "outputs": [],
   "source": [
    "from csv import reader\n",
    "import datetime as dt\n",
    "\n",
    "hn = list(reader(open('hacker_news.csv')))"
   ]
  },
  {
   "cell_type": "code",
   "execution_count": 12,
   "metadata": {},
   "outputs": [
    {
     "name": "stdout",
     "output_type": "stream",
     "text": [
      "[['id', 'title', 'url', 'num_points', 'num_comments', 'author', 'created_at'], ['12224879', 'Interactive Dynamic Video', 'http://www.interactivedynamicvideo.com/', '386', '52', 'ne0phyte', '8/4/2016 11:52'], ['10975351', 'How to Use Open Source and Shut the Fuck Up at the Same Time', 'http://hueniverse.com/2016/01/26/how-to-use-open-source-and-shut-the-fuck-up-at-the-same-time/', '39', '10', 'josep2', '1/26/2016 19:30'], ['11964716', \"Florida DJs May Face Felony for April Fools' Water Joke\", 'http://www.thewire.com/entertainment/2013/04/florida-djs-april-fools-water-joke/63798/', '2', '1', 'vezycash', '6/23/2016 22:20'], ['11919867', 'Technology ventures: From Idea to Enterprise', 'https://www.amazon.com/Technology-Ventures-Enterprise-Thomas-Byers/dp/0073523429', '3', '1', 'hswarna', '6/17/2016 0:01'], ['10301696', 'Note by Note: The Making of Steinway L1037 (2007)', 'http://www.nytimes.com/2007/11/07/movies/07stein.html?_r=0', '8', '2', 'walterbell', '9/30/2015 4:12']]\n"
     ]
    }
   ],
   "source": [
    "print(hn[:6])"
   ]
  },
  {
   "cell_type": "code",
   "execution_count": 13,
   "metadata": {},
   "outputs": [
    {
     "name": "stdout",
     "output_type": "stream",
     "text": [
      "['id', 'title', 'url', 'num_points', 'num_comments', 'author', 'created_at']\n",
      "\n",
      "\n",
      "[['12224879', 'Interactive Dynamic Video', 'http://www.interactivedynamicvideo.com/', '386', '52', 'ne0phyte', '8/4/2016 11:52'], ['10975351', 'How to Use Open Source and Shut the Fuck Up at the Same Time', 'http://hueniverse.com/2016/01/26/how-to-use-open-source-and-shut-the-fuck-up-at-the-same-time/', '39', '10', 'josep2', '1/26/2016 19:30'], ['11964716', \"Florida DJs May Face Felony for April Fools' Water Joke\", 'http://www.thewire.com/entertainment/2013/04/florida-djs-april-fools-water-joke/63798/', '2', '1', 'vezycash', '6/23/2016 22:20'], ['11919867', 'Technology ventures: From Idea to Enterprise', 'https://www.amazon.com/Technology-Ventures-Enterprise-Thomas-Byers/dp/0073523429', '3', '1', 'hswarna', '6/17/2016 0:01'], ['10301696', 'Note by Note: The Making of Steinway L1037 (2007)', 'http://www.nytimes.com/2007/11/07/movies/07stein.html?_r=0', '8', '2', 'walterbell', '9/30/2015 4:12']]\n"
     ]
    }
   ],
   "source": [
    "# With course suggestions\n",
    "# Extract headers to separate list\n",
    "\n",
    "# Commented out to prevent accidentally running a second time\n",
    "# headers = hn[0]\n",
    "\n",
    "# hn = hn[1:]\n",
    "\n",
    "print(headers)\n",
    "print('\\n')\n",
    "print(hn[:5])"
   ]
  },
  {
   "cell_type": "markdown",
   "metadata": {},
   "source": [
    "*From the course*\n",
    "\n",
    "We are now ready to filter the data. We are only interested in titles beginning with `Ask HN` or `Show HN` so a list of lists shall be created with just these titles.\n",
    "\n",
    "`str.startswith` will be used to help with this."
   ]
  },
  {
   "cell_type": "code",
   "execution_count": 6,
   "metadata": {},
   "outputs": [
    {
     "name": "stdout",
     "output_type": "stream",
     "text": [
      "1744 1162 17194\n"
     ]
    }
   ],
   "source": [
    "# With course guidance\n",
    "# Create seperate lists for the different types of posts by title\n",
    "\n",
    "ask_posts = []\n",
    "show_posts = []\n",
    "other_posts = []\n",
    "\n",
    "for row in hn:\n",
    "    title = row[1]\n",
    "    \n",
    "    # Add the posts to the appropriate lists\n",
    "    if title.lower().startswith('ask hn'):\n",
    "        ask_posts.append(row)\n",
    "    elif title.lower().startswith('show hn'):\n",
    "        show_posts.append(row)\n",
    "    else:\n",
    "        other_posts.append(row)\n",
    "        \n",
    "        \n",
    "# Check the lists are correct by comparison to soln workbook        \n",
    "print(len(ask_posts), len(show_posts), len(other_posts))"
   ]
  },
  {
   "cell_type": "markdown",
   "metadata": {},
   "source": [
    "These numbers match the solution workbook."
   ]
  },
  {
   "cell_type": "markdown",
   "metadata": {},
   "source": [
    "*From the course*\n",
    "\n",
    "Now we shall determine if `Ask HN` posts or `Show HN` posts receive more comments on average"
   ]
  },
  {
   "cell_type": "code",
   "execution_count": 7,
   "metadata": {},
   "outputs": [],
   "source": [
    "# With course suggestions, done slightly differently to guidance\n",
    "\n",
    "# Find average number of comments\n",
    "\n",
    "def avg_comments(data_set, comments_index):\n",
    "    \n",
    "    total_comments = 0\n",
    "    \n",
    "    # First find total number of comments\n",
    "    \n",
    "    for row in data_set:\n",
    "        comments = float(row[comments_index])\n",
    "        total_comments += comments\n",
    "        \n",
    "    avg = total_comments / len(data_set)\n",
    "    \n",
    "    return avg"
   ]
  },
  {
   "cell_type": "code",
   "execution_count": 10,
   "metadata": {},
   "outputs": [
    {
     "name": "stdout",
     "output_type": "stream",
     "text": [
      "The average number of comments for ask posts is 14.04.\n",
      "\n",
      "\n",
      "The average number of comments for show posts is 10.32.\n",
      "\n",
      "\n",
      "The difference in the number of comments is 3.72.\n"
     ]
    }
   ],
   "source": [
    "# With course suggestions\n",
    "# print avg comments for ask and show posts\n",
    "\n",
    "ask_avg_com = avg_comments(ask_posts, 4)\n",
    "show_avg_com = avg_comments(show_posts, 4)\n",
    "dif = ask_avg_com - show_avg_com\n",
    "\n",
    "print(f'The average number of comments for ask posts is {ask_avg_com:.2f}.')\n",
    "print('\\n')\n",
    "print(f'The average number of comments for show posts is {show_avg_com:.2f}.')\n",
    "print('\\n')\n",
    "print(f'The difference in the number of comments is {dif:.2f}.')"
   ]
  },
  {
   "cell_type": "markdown",
   "metadata": {},
   "source": [
    "The analysis shows that on average, `Ask HN` posts typically get more comments by 3.72 comments per post.\n",
    "\n",
    "*For research beyond what was asked in guided project:* Why??\n",
    "\n",
    "---"
   ]
  },
  {
   "cell_type": "markdown",
   "metadata": {},
   "source": [
    "*From the course*\n",
    "\n",
    "Since Ask posts recieve more comments on average, these shall be the focus of the rest of the analysis.\n",
    "\n",
    "We will now determine if posts created at a certain time are more likely to attract comments. The following steps will be used:\n",
    "\n",
    "* Calculate the amount of ask posts created in each hour of the day, along with the number of comments received.\n",
    "\n",
    "* Calculate the average number of comments ask posts receive by hour created.\n",
    "\n",
    "The `datetime` module (imported at start of notebook) will be used to help conduct this analysis."
   ]
  },
  {
   "cell_type": "code",
   "execution_count": 16,
   "metadata": {},
   "outputs": [
    {
     "name": "stdout",
     "output_type": "stream",
     "text": [
      "[[datetime.datetime(2016, 8, 16, 9, 55), 6.0], [datetime.datetime(2015, 11, 22, 13, 43), 29.0], [datetime.datetime(2016, 5, 2, 10, 14), 1.0], [datetime.datetime(2016, 8, 2, 14, 20), 3.0], [datetime.datetime(2015, 10, 15, 16, 38), 17.0]]\n"
     ]
    }
   ],
   "source": [
    "# With course guidance\n",
    "# Create list of submission time and number of comments\n",
    "\n",
    "result_list = []\n",
    "\n",
    "for row in ask_posts:\n",
    "    creation = dt.datetime.strptime(row[6], '%m/%d/%Y %H:%M')\n",
    "    comments = float(row[4])\n",
    "    result_list.append([creation, comments])\n",
    "    \n",
    "print(result_list[:5])"
   ]
  },
  {
   "cell_type": "code",
   "execution_count": 29,
   "metadata": {},
   "outputs": [
    {
     "name": "stdout",
     "output_type": "stream",
     "text": [
      "{'09': 45, '13': 85, '10': 59, '14': 107, '16': 108, '23': 68, '12': 73, '17': 100, '15': 116, '21': 109, '20': 80, '02': 58, '18': 109, '03': 54, '05': 46, '19': 110, '01': 60, '22': 71, '08': 48, '04': 47, '00': 55, '06': 44, '07': 34, '11': 58}\n",
      "\n",
      "\n",
      "{'09': 251.0, '13': 1253.0, '10': 793.0, '14': 1416.0, '16': 1814.0, '23': 543.0, '12': 687.0, '17': 1146.0, '15': 4477.0, '21': 1745.0, '20': 1722.0, '02': 1381.0, '18': 1439.0, '03': 421.0, '05': 464.0, '19': 1188.0, '01': 683.0, '22': 479.0, '08': 492.0, '04': 337.0, '00': 447.0, '06': 397.0, '07': 267.0, '11': 641.0}\n"
     ]
    }
   ],
   "source": [
    "# With course guidance\n",
    "# Create dictionaries of number of posts submitted at each hour of a day\n",
    "# and the number of comments on posts at each hour of a day\n",
    "\n",
    "counts_by_hour = {}\n",
    "comments_by_hour = {}\n",
    "\n",
    "for row in result_list:\n",
    "    \n",
    "    hour = row[0].strftime('%H')\n",
    "    comments = row[1]\n",
    "    \n",
    "    if hour in counts_by_hour:\n",
    "        counts_by_hour[hour] += 1\n",
    "        comments_by_hour[hour] += comments\n",
    "    else:\n",
    "        counts_by_hour[hour] = 1\n",
    "        comments_by_hour[hour] = comments\n",
    "        \n",
    "print(counts_by_hour)\n",
    "print('\\n')\n",
    "print(comments_by_hour)    "
   ]
  },
  {
   "cell_type": "markdown",
   "metadata": {},
   "source": [
    "*From the course*\n",
    "\n",
    "The two dictionaries will now be used to calculate the average number of comments for posts created during each hour."
   ]
  },
  {
   "cell_type": "code",
   "execution_count": 30,
   "metadata": {},
   "outputs": [
    {
     "name": "stdout",
     "output_type": "stream",
     "text": [
      "[['09', 5.5777777777777775], ['13', 14.741176470588234], ['10', 13.440677966101696], ['14', 13.233644859813085], ['16', 16.796296296296298], ['23', 7.985294117647059], ['12', 9.41095890410959], ['17', 11.46], ['15', 38.5948275862069], ['21', 16.009174311926607], ['20', 21.525], ['02', 23.810344827586206], ['18', 13.20183486238532], ['03', 7.796296296296297], ['05', 10.08695652173913], ['19', 10.8], ['01', 11.383333333333333], ['22', 6.746478873239437], ['08', 10.25], ['04', 7.170212765957447], ['00', 8.127272727272727], ['06', 9.022727272727273], ['07', 7.852941176470588], ['11', 11.051724137931034]]\n"
     ]
    }
   ],
   "source": [
    "# With course guidance\n",
    "# Calculate avg num comments each hour\n",
    "\n",
    "per_hour = []\n",
    "\n",
    "for hour in counts_by_hour:\n",
    "    per_hour.append([hour, comments_by_hour[hour] / counts_by_hour[hour]])\n",
    "\n",
    "print(per_hour)"
   ]
  },
  {
   "cell_type": "markdown",
   "metadata": {},
   "source": [
    "*From the course*\n",
    "\n",
    "Finish by sorting the list to make it easier to determine the best and wort time to post"
   ]
  },
  {
   "cell_type": "code",
   "execution_count": 31,
   "metadata": {},
   "outputs": [
    {
     "name": "stdout",
     "output_type": "stream",
     "text": [
      "[[5.5777777777777775, '09'], [14.741176470588234, '13'], [13.440677966101696, '10'], [13.233644859813085, '14'], [16.796296296296298, '16'], [7.985294117647059, '23'], [9.41095890410959, '12'], [11.46, '17'], [38.5948275862069, '15'], [16.009174311926607, '21'], [21.525, '20'], [23.810344827586206, '02'], [13.20183486238532, '18'], [7.796296296296297, '03'], [10.08695652173913, '05'], [10.8, '19'], [11.383333333333333, '01'], [6.746478873239437, '22'], [10.25, '08'], [7.170212765957447, '04'], [8.127272727272727, '00'], [9.022727272727273, '06'], [7.852941176470588, '07'], [11.051724137931034, '11']]\n"
     ]
    }
   ],
   "source": [
    "# With course guidance\n",
    "# reverse the list elements so avg comments is first\n",
    "\n",
    "avg_per_hour = []\n",
    "\n",
    "for row in per_hour:\n",
    "    avg_per_hour.append([row[1], row[0]])\n",
    "    \n",
    "print(avg_per_hour)"
   ]
  },
  {
   "cell_type": "code",
   "execution_count": 32,
   "metadata": {},
   "outputs": [],
   "source": [
    "# With course guidance\n",
    "# sort the reversed list\n",
    "\n",
    "sorted_list = sorted(avg_per_hour, reverse = True)\n",
    "\n",
    "# convert to time format for hour\n",
    "for row in sorted_list:\n",
    "    row[1] = dt.datetime.strptime(row[1], '%H')\n",
    "    row[1] = row[1].strftime('%H:%M')"
   ]
  },
  {
   "cell_type": "code",
   "execution_count": 35,
   "metadata": {},
   "outputs": [
    {
     "name": "stdout",
     "output_type": "stream",
     "text": [
      "The top 3 hours for Ask post comments are:\n",
      "\n",
      "• 15:00: 38.59 average comments per post.\n",
      "\n",
      "• 02:00: 23.81 average comments per post.\n",
      "\n",
      "• 20:00: 21.52 average comments per post.\n",
      "\n",
      "The worst hour for Ask post comments is:\n",
      "\n",
      "• 09:00: 5.58 average comments per post.\n"
     ]
    }
   ],
   "source": [
    "# print top 3 and lowest 1\n",
    "\n",
    "print('The top 3 hours for Ask post comments are:')\n",
    "\n",
    "for row in sorted_list[:3]:\n",
    "    print(f'\\n\\u2022 {row[1]}: {row[0]:.2f} average comments per post.')\n",
    "    \n",
    "print('\\nThe worst hour for Ask post comments is:')\n",
    "print(f'\\n\\u2022 {sorted_list[-1][1]}: {sorted_list[-1][0]:.2f} average comments per post.')"
   ]
  },
  {
   "cell_type": "markdown",
   "metadata": {},
   "source": [
    "UK time is 5 hours ahead of Eastern time. This suggests that the best time in the UK to submit an ask post is from 8:00 - 9:00 pm GMT with an average of 38.59 comments per post, nearly 15 more comments per post than the next best time of 7:00 - 8:00 am.\n",
    "\n",
    "The worst time to post would be from 2:00 - 3:00 pm with an average of 5.58 comments per post, about 7.5 times less comments per post than the peak time.\n",
    "\n",
    "---"
   ]
  },
  {
   "cell_type": "markdown",
   "metadata": {},
   "source": [
    "## Conclusion\n",
    "\n",
    "This project aimed to compare the popularity of commenting on 'ask' and 'show' posts and then determine what is the best time to post in order to receive comments on a post. \n",
    "\n",
    "To do this, submissions starting with `'Ask HN'` and `'Show HN'` were separated from the rest of the data and then the average number of comments was calculated for both. \n",
    "\n",
    "It was found that 'ask' posts received more comments on average with 14.04 (2s.f.) compared to 10.32 (2s.f.) of 'show' posts.\n",
    "\n",
    "The analysis was then focused on the 'ask' posts. Frequency tables were created and then sorted to calculate and determine the average number of comments on an 'ask' post according to the hour it was created.\n",
    "\n",
    "This led to the conclusion that the best time to post is from 8:00 - 9:00 pm GMT, with an average of 38.59 (2s.f.) comments per post for posts created during that time period."
   ]
  }
 ],
 "metadata": {
  "kernelspec": {
   "display_name": "Python 3",
   "language": "python",
   "name": "python3"
  },
  "language_info": {
   "codemirror_mode": {
    "name": "ipython",
    "version": 3
   },
   "file_extension": ".py",
   "mimetype": "text/x-python",
   "name": "python",
   "nbconvert_exporter": "python",
   "pygments_lexer": "ipython3",
   "version": "3.8.3"
  }
 },
 "nbformat": 4,
 "nbformat_minor": 4
}
