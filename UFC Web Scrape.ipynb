{
 "cells": [
  {
   "cell_type": "code",
   "execution_count": 1,
   "metadata": {},
   "outputs": [],
   "source": [
    "import pandas as pd\n",
    "import numpy as np\n",
    "import string"
   ]
  },
  {
   "cell_type": "code",
   "execution_count": 2,
   "metadata": {},
   "outputs": [],
   "source": [
    "fighters = {}\n",
    "\n",
    "# Run through URL for each letter of the alphabet, corresponding to a different page\n",
    "for letter in string.ascii_lowercase:\n",
    "    url = f\"http://ufcstats.com/statistics/fighters?char={letter}&page=all\"\n",
    "    # Read the online tables into a DataFrame\n",
    "    table = pd.read_html(url)[0]\n",
    "    fighters[letter] = table"
   ]
  },
  {
   "cell_type": "code",
   "execution_count": 3,
   "metadata": {},
   "outputs": [],
   "source": [
    "# Add all to a single DataFrame\n",
    "df_list = [v for k,v in fighters.items()] \n",
    "all_fighters = pd.concat(df_list)\n",
    "all_fighters.reset_index(inplace=True, drop=True)"
   ]
  },
  {
   "cell_type": "code",
   "execution_count": 4,
   "metadata": {},
   "outputs": [],
   "source": [
    "# Remove completely empty rows from top of the tables\n",
    "all_fighters.dropna(how='all', inplace=True)\n",
    "# Edit column names\n",
    "new_columns = {\"Ht.\": \"Height (cm)\", \"Wt.\": \"Weight\", \"W\": \"Wins\", \"L\": \"Losses\", \n",
    "               \"D\": \"Draws\", \"Reach\": \"Reach (cm)\"}\n",
    "all_fighters.rename(columns=new_columns, inplace=True)\n",
    "# Reset index\n",
    "all_fighters.reset_index(inplace=True, drop=True)"
   ]
  },
  {
   "cell_type": "code",
   "execution_count": 5,
   "metadata": {},
   "outputs": [],
   "source": [
    "# Replace name columns with one combined column\n",
    "name_col = all_fighters['First'] + ' ' + all_fighters['Last']\n",
    "all_fighters.drop(columns=['First', 'Last', 'Belt'], inplace=True)\n",
    "all_fighters.insert(0, 'Name', name_col)"
   ]
  },
  {
   "cell_type": "code",
   "execution_count": 6,
   "metadata": {},
   "outputs": [],
   "source": [
    "# Clean table\n",
    "all_fighters.replace(to_replace='--', value=np.nan, inplace=True)"
   ]
  },
  {
   "cell_type": "code",
   "execution_count": 7,
   "metadata": {},
   "outputs": [],
   "source": [
    "# Clean weight col and add weigth catagory\n",
    "weight_col = all_fighters['Weight'].str.slice(0, 3)\n",
    "weight_col = weight_col.astype(float)\n",
    "all_fighters.drop(columns=['Weight'], inplace=True)\n",
    "all_fighters.insert(3, 'Weight (lbs)', weight_col)\n",
    "\n",
    "# Booleans to group weights by\n",
    "weights = all_fighters['Weight (lbs)']\n",
    "straw = weights <= 115.0\n",
    "fly = (weights > 115.0) & (weights <= 125.0)\n",
    "bant = (weights > 125.0) & (weights <= 135.0)\n",
    "feath = (weights > 135.0) & (weights <= 145.0)\n",
    "light = (weights > 145.0) & (weights <= 155.0)\n",
    "welt = (weights > 155.0) & (weights <= 170.0)\n",
    "mid = (weights > 170.0) & (weights <= 185.0)\n",
    "lh = (weights > 185.0) & (weights <= 205.0)\n",
    "hw = (weights > 205.0) & (weights <= 265.0)\n",
    "sup = weights > 265.0\n",
    "\n",
    "# Add the categories\n",
    "all_fighters.loc[straw, 'Weight Category'] = 'Strawweight'\n",
    "all_fighters.loc[fly, 'Weight Category'] = 'Flyweight'\n",
    "all_fighters.loc[bant, 'Weight Category'] = 'Bantamweight'\n",
    "all_fighters.loc[feath, 'Weight Category'] = 'Featherweight'\n",
    "all_fighters.loc[light, 'Weight Category'] = 'Lightweight'\n",
    "all_fighters.loc[welt, 'Weight Category'] = 'Welterweight'\n",
    "all_fighters.loc[mid, 'Weight Category'] = 'Middleweight'\n",
    "all_fighters.loc[lh, 'Weight Category'] = 'Light Heavyweight'\n",
    "all_fighters.loc[hw, 'Weight Category'] = 'Heavyweight'\n",
    "all_fighters.loc[sup, 'Weight Category'] = 'Super Heavyweight'"
   ]
  },
  {
   "cell_type": "code",
   "execution_count": 8,
   "metadata": {},
   "outputs": [],
   "source": [
    "# Create total fights column\n",
    "all_fighters['Total Fights'] = all_fighters['Wins'] + all_fighters['Losses'] + all_fighters['Draws']"
   ]
  },
  {
   "cell_type": "code",
   "execution_count": 9,
   "metadata": {},
   "outputs": [],
   "source": [
    "# Rearrange columns\n",
    "all_fighters = all_fighters[['Name', 'Nickname', 'Height (cm)', 'Weight (lbs)', 'Weight Category', \n",
    "                             'Reach (cm)', 'Stance', 'Total Fights', 'Wins', 'Losses', 'Draws'\n",
    "                            ]]"
   ]
  },
  {
   "cell_type": "code",
   "execution_count": 10,
   "metadata": {},
   "outputs": [],
   "source": [
    "# Convert heights to cm\n",
    "heights = {'6\\' 0\"': 183, '5\\' 9\"': 175, '5\\' 10\"': 178, '5\\' 11\"': 180, \n",
    "           '6\\' 1\"': 185, '5\\' 8\"': 173, '5\\' 7\"': 170, '6\\' 2\"': 188, \n",
    "           '5\\' 6\"': 168, '6\\' 3\"': 191, '5\\' 5\"': 165, '6\\' 4\"': 193, \n",
    "           '5\\' 4\"': 163, '5\\' 3\"': 160, '6\\' 5\"': 196, '6\\' 6\"': 198, \n",
    "           '5\\' 2\"': 157, '5\\' 1\"': 155, '6\\' 7\"': 201, '6\\' 8\"': 203, \n",
    "           '5\\' 0\"': 152, '6\\' 11\"': 211, '6\\' 10\"': 208, '7\\' 5\"': 226, \n",
    "           '7\\' 2\"': 218, '6\\' 9\"': 206}\n",
    "\n",
    "all_fighters['Height (cm)'] = all_fighters['Height (cm)'].replace(to_replace=heights)"
   ]
  },
  {
   "cell_type": "code",
   "execution_count": 11,
   "metadata": {},
   "outputs": [],
   "source": [
    "# convert reach to cm\n",
    "\n",
    "reach_col = all_fighters['Reach (cm)'].str.slice(0, 4)\n",
    "reach_col = (reach_col.astype(float) * 2.54).round(0)\n",
    "all_fighters['Reach (cm)'] = reach_col"
   ]
  },
  {
   "cell_type": "code",
   "execution_count": 12,
   "metadata": {},
   "outputs": [],
   "source": [
    "# Use index as fighter ID\n",
    "fighter_id = all_fighters.index\n",
    "all_fighters.insert(0, 'Fighter ID', fighter_id)"
   ]
  },
  {
   "cell_type": "code",
   "execution_count": 13,
   "metadata": {},
   "outputs": [],
   "source": [
    "all_fighters.to_csv(\"ufc_fighter_data.csv\", index=False)"
   ]
  }
 ],
 "metadata": {
  "kernelspec": {
   "display_name": "Python 3",
   "language": "python",
   "name": "python3"
  },
  "language_info": {
   "codemirror_mode": {
    "name": "ipython",
    "version": 3
   },
   "file_extension": ".py",
   "mimetype": "text/x-python",
   "name": "python",
   "nbconvert_exporter": "python",
   "pygments_lexer": "ipython3",
   "version": "3.8.5"
  }
 },
 "nbformat": 4,
 "nbformat_minor": 4
}
