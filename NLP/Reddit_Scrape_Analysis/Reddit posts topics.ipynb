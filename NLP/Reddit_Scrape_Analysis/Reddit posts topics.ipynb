{
 "cells": [
  {
   "cell_type": "markdown",
   "metadata": {},
   "source": [
    "# Post Topics from Posts in the r/Python subreddit\n",
    "\n",
    "The aim of this project is to classify the topic of posts from the r/Python subreddit from end-to-end. In order to do this, I first needed to scrape a sufficient number of posts for an accurate NLP model. I have done this via this [submission downloader code](https://github.com/dgadish/projects/blob/master/NLP/Reddit_Scrape_Analysis/Reddit%20Submission%20downloader.ipynb) . \n",
    "\n",
    "Once a sufficient number of submissions were scraped, I read them into a pandas dataframe in order to clean them sufficiently to be fed into a model.\n",
    "\n",
    "The submissions were collected at around 10:00 on 07/02/2021\n",
    "\n",
    "The submissions have both title and text sections. I will attempt to determine topics using both. \n",
    "\n",
    "I will attempt to use both LSA (Latent Semantic Analysis) and LDA (Latent Dirichlet Allocation) to determine the topics of each post. When I have more time, I will attempt to use Word Embedding combined with something like K-Means clustering as well."
   ]
  },
  {
   "cell_type": "markdown",
   "metadata": {},
   "source": [
    "### Progress so far...\n",
    "\n",
    "So far I have imported the submissions and I have cleaned and preprocessed the text sections of the submissions. I have then created a bag-of-words model for the text column and used it to train an LDA model.\n",
    "\n",
    "### Next steps...\n",
    "\n",
    "Next I need to play around with the parameters of the model to find suitable topics with which I can label and then assign to submissions. "
   ]
  },
  {
   "cell_type": "code",
   "execution_count": 1,
   "metadata": {},
   "outputs": [],
   "source": [
    "import nltk\n",
    "#nltk.download('all')\n",
    "import gensim\n",
    "import spacy\n",
    "import numpy as np\n",
    "import pandas as pd\n",
    "import matplotlib.pyplot as plt\n",
    "%matplotlib inline"
   ]
  },
  {
   "cell_type": "code",
   "execution_count": 2,
   "metadata": {},
   "outputs": [],
   "source": [
    "subs = pd.read_json('python_posts.json', orient='index')"
   ]
  },
  {
   "cell_type": "code",
   "execution_count": 3,
   "metadata": {},
   "outputs": [
    {
     "data": {
      "text/html": [
       "<div>\n",
       "<style scoped>\n",
       "    .dataframe tbody tr th:only-of-type {\n",
       "        vertical-align: middle;\n",
       "    }\n",
       "\n",
       "    .dataframe tbody tr th {\n",
       "        vertical-align: top;\n",
       "    }\n",
       "\n",
       "    .dataframe thead th {\n",
       "        text-align: right;\n",
       "    }\n",
       "</style>\n",
       "<table border=\"1\" class=\"dataframe\">\n",
       "  <thead>\n",
       "    <tr style=\"text-align: right;\">\n",
       "      <th></th>\n",
       "      <th>title</th>\n",
       "      <th>subreddit</th>\n",
       "      <th>score</th>\n",
       "      <th>num_comments</th>\n",
       "      <th>created_utc</th>\n",
       "      <th>selftext</th>\n",
       "    </tr>\n",
       "  </thead>\n",
       "  <tbody>\n",
       "    <tr>\n",
       "      <th>1</th>\n",
       "      <td>Python conversion tool for converting csv to J...</td>\n",
       "      <td>Python</td>\n",
       "      <td>1</td>\n",
       "      <td>1</td>\n",
       "      <td>1612467290</td>\n",
       "      <td>[removed]</td>\n",
       "    </tr>\n",
       "    <tr>\n",
       "      <th>2</th>\n",
       "      <td>lynda courses</td>\n",
       "      <td>Python</td>\n",
       "      <td>1</td>\n",
       "      <td>2</td>\n",
       "      <td>1612466655</td>\n",
       "      <td>[removed]</td>\n",
       "    </tr>\n",
       "    <tr>\n",
       "      <th>3</th>\n",
       "      <td>Anybody have sample code to determine if a web...</td>\n",
       "      <td>Python</td>\n",
       "      <td>4</td>\n",
       "      <td>5</td>\n",
       "      <td>1612466550</td>\n",
       "      <td>Hi, has anyone created python code that tests ...</td>\n",
       "    </tr>\n",
       "    <tr>\n",
       "      <th>5</th>\n",
       "      <td>Barnsley Fern - an interesting fractal created...</td>\n",
       "      <td>Python</td>\n",
       "      <td>1</td>\n",
       "      <td>0</td>\n",
       "      <td>1612465003</td>\n",
       "      <td>[deleted]</td>\n",
       "    </tr>\n",
       "    <tr>\n",
       "      <th>6</th>\n",
       "      <td>Project – Find Neapolitan pizza with AI help</td>\n",
       "      <td>Python</td>\n",
       "      <td>2</td>\n",
       "      <td>0</td>\n",
       "      <td>1612464251</td>\n",
       "      <td>Just finished this project! An unfiltered revi...</td>\n",
       "    </tr>\n",
       "  </tbody>\n",
       "</table>\n",
       "</div>"
      ],
      "text/plain": [
       "                                               title subreddit  score  \\\n",
       "1  Python conversion tool for converting csv to J...    Python      1   \n",
       "2                                      lynda courses    Python      1   \n",
       "3  Anybody have sample code to determine if a web...    Python      4   \n",
       "5  Barnsley Fern - an interesting fractal created...    Python      1   \n",
       "6       Project – Find Neapolitan pizza with AI help    Python      2   \n",
       "\n",
       "   num_comments  created_utc  \\\n",
       "1             1   1612467290   \n",
       "2             2   1612466655   \n",
       "3             5   1612466550   \n",
       "5             0   1612465003   \n",
       "6             0   1612464251   \n",
       "\n",
       "                                            selftext  \n",
       "1                                          [removed]  \n",
       "2                                          [removed]  \n",
       "3  Hi, has anyone created python code that tests ...  \n",
       "5                                          [deleted]  \n",
       "6  Just finished this project! An unfiltered revi...  "
      ]
     },
     "execution_count": 3,
     "metadata": {},
     "output_type": "execute_result"
    }
   ],
   "source": [
    "subs.head()"
   ]
  },
  {
   "cell_type": "code",
   "execution_count": 4,
   "metadata": {},
   "outputs": [
    {
     "name": "stdout",
     "output_type": "stream",
     "text": [
      "<class 'pandas.core.frame.DataFrame'>\n",
      "Int64Index: 26003 entries, 1 to 40100\n",
      "Data columns (total 6 columns):\n",
      " #   Column        Non-Null Count  Dtype \n",
      "---  ------        --------------  ----- \n",
      " 0   title         26003 non-null  object\n",
      " 1   subreddit     26003 non-null  object\n",
      " 2   score         26003 non-null  int64 \n",
      " 3   num_comments  26003 non-null  int64 \n",
      " 4   created_utc   26003 non-null  int64 \n",
      " 5   selftext      26003 non-null  object\n",
      "dtypes: int64(3), object(3)\n",
      "memory usage: 1.4+ MB\n"
     ]
    }
   ],
   "source": [
    "subs.info()"
   ]
  },
  {
   "cell_type": "code",
   "execution_count": 5,
   "metadata": {
    "scrolled": true
   },
   "outputs": [],
   "source": [
    "# Drop submissions which have been removed or deleted\n",
    "\n",
    "n_r_d = (subs['selftext'] != '[removed]') & (subs['selftext'] != '[deleted]')\n",
    "subs_1 = subs[n_r_d]\n",
    "subs_1.reset_index(drop=True, inplace=True)"
   ]
  },
  {
   "cell_type": "code",
   "execution_count": 6,
   "metadata": {},
   "outputs": [
    {
     "data": {
      "text/html": [
       "<div>\n",
       "<style scoped>\n",
       "    .dataframe tbody tr th:only-of-type {\n",
       "        vertical-align: middle;\n",
       "    }\n",
       "\n",
       "    .dataframe tbody tr th {\n",
       "        vertical-align: top;\n",
       "    }\n",
       "\n",
       "    .dataframe thead th {\n",
       "        text-align: right;\n",
       "    }\n",
       "</style>\n",
       "<table border=\"1\" class=\"dataframe\">\n",
       "  <thead>\n",
       "    <tr style=\"text-align: right;\">\n",
       "      <th></th>\n",
       "      <th>title</th>\n",
       "      <th>subreddit</th>\n",
       "      <th>score</th>\n",
       "      <th>num_comments</th>\n",
       "      <th>created_utc</th>\n",
       "      <th>selftext</th>\n",
       "    </tr>\n",
       "  </thead>\n",
       "  <tbody>\n",
       "    <tr>\n",
       "      <th>0</th>\n",
       "      <td>Anybody have sample code to determine if a web...</td>\n",
       "      <td>Python</td>\n",
       "      <td>4</td>\n",
       "      <td>5</td>\n",
       "      <td>1612466550</td>\n",
       "      <td>Hi, has anyone created python code that tests ...</td>\n",
       "    </tr>\n",
       "    <tr>\n",
       "      <th>1</th>\n",
       "      <td>Project – Find Neapolitan pizza with AI help</td>\n",
       "      <td>Python</td>\n",
       "      <td>2</td>\n",
       "      <td>0</td>\n",
       "      <td>1612464251</td>\n",
       "      <td>Just finished this project! An unfiltered revi...</td>\n",
       "    </tr>\n",
       "    <tr>\n",
       "      <th>2</th>\n",
       "      <td>In response to the \"Medium bad\" thread, here a...</td>\n",
       "      <td>Python</td>\n",
       "      <td>9</td>\n",
       "      <td>4</td>\n",
       "      <td>1612460552</td>\n",
       "      <td>I agree with some of the sentiments shared in ...</td>\n",
       "    </tr>\n",
       "    <tr>\n",
       "      <th>3</th>\n",
       "      <td>To open source or not to open source?</td>\n",
       "      <td>Python</td>\n",
       "      <td>3</td>\n",
       "      <td>8</td>\n",
       "      <td>1612453887</td>\n",
       "      <td>When do you guys know when to open source a pr...</td>\n",
       "    </tr>\n",
       "    <tr>\n",
       "      <th>4</th>\n",
       "      <td>How can i decrypt signature Url of YouTube Videos</td>\n",
       "      <td>Python</td>\n",
       "      <td>2</td>\n",
       "      <td>3</td>\n",
       "      <td>1612453834</td>\n",
       "      <td>I made a python module which download youtube ...</td>\n",
       "    </tr>\n",
       "  </tbody>\n",
       "</table>\n",
       "</div>"
      ],
      "text/plain": [
       "                                               title subreddit  score  \\\n",
       "0  Anybody have sample code to determine if a web...    Python      4   \n",
       "1       Project – Find Neapolitan pizza with AI help    Python      2   \n",
       "2  In response to the \"Medium bad\" thread, here a...    Python      9   \n",
       "3              To open source or not to open source?    Python      3   \n",
       "4  How can i decrypt signature Url of YouTube Videos    Python      2   \n",
       "\n",
       "   num_comments  created_utc  \\\n",
       "0             5   1612466550   \n",
       "1             0   1612464251   \n",
       "2             4   1612460552   \n",
       "3             8   1612453887   \n",
       "4             3   1612453834   \n",
       "\n",
       "                                            selftext  \n",
       "0  Hi, has anyone created python code that tests ...  \n",
       "1  Just finished this project! An unfiltered revi...  \n",
       "2  I agree with some of the sentiments shared in ...  \n",
       "3  When do you guys know when to open source a pr...  \n",
       "4  I made a python module which download youtube ...  "
      ]
     },
     "execution_count": 6,
     "metadata": {},
     "output_type": "execute_result"
    }
   ],
   "source": [
    "subs_1.head()"
   ]
  },
  {
   "cell_type": "code",
   "execution_count": 7,
   "metadata": {},
   "outputs": [
    {
     "name": "stdout",
     "output_type": "stream",
     "text": [
      "<class 'pandas.core.frame.DataFrame'>\n",
      "RangeIndex: 18102 entries, 0 to 18101\n",
      "Data columns (total 6 columns):\n",
      " #   Column        Non-Null Count  Dtype \n",
      "---  ------        --------------  ----- \n",
      " 0   title         18102 non-null  object\n",
      " 1   subreddit     18102 non-null  object\n",
      " 2   score         18102 non-null  int64 \n",
      " 3   num_comments  18102 non-null  int64 \n",
      " 4   created_utc   18102 non-null  int64 \n",
      " 5   selftext      18102 non-null  object\n",
      "dtypes: int64(3), object(3)\n",
      "memory usage: 848.7+ KB\n"
     ]
    }
   ],
   "source": [
    "subs_1.info()"
   ]
  },
  {
   "cell_type": "markdown",
   "metadata": {},
   "source": [
    "### Data cleaning and pre-processing\n",
    "\n",
    "Now that I have collected a sufficiently large data set and dropped any submissions that were deleted or removed, I can begin to clean the data set. For now my cleaning will be focused on preparing the data for a bag-of-words model, suitable for LSA and LDA\n",
    "\n",
    "I will begin with the 'selftext' column and then move to the 'title' column."
   ]
  },
  {
   "cell_type": "markdown",
   "metadata": {},
   "source": [
    "**Selftext**\n",
    "\n",
    "I will start by removing the url's which are included in a number of the submissions. I have taken a regex expression from [Github Gist user gruber](https://gist.github.com/gruber/8891611). To remove urls with pandas methods."
   ]
  },
  {
   "cell_type": "code",
   "execution_count": 8,
   "metadata": {},
   "outputs": [],
   "source": [
    "# First create a new copy of the dataframe\n",
    "\n",
    "subs_2 = subs_1.copy()\n",
    "\n",
    "# Remove url's with provided regex\n",
    "\n",
    "rgx = r\"(?i)\\b((?:https?:(?:/{1,3}|[a-z0-9%])|[a-z0-9.\\-]+[.](?:com|net|org|edu|gov|mil|aero|asia|biz|cat|coop|info|int|jobs|mobi|museum|name|post|pro|tel|travel|xxx|ac|ad|ae|af|ag|ai|al|am|an|ao|aq|ar|as|at|au|aw|ax|az|ba|bb|bd|be|bf|bg|bh|bi|bj|bm|bn|bo|br|bs|bt|bv|bw|by|bz|ca|cc|cd|cf|cg|ch|ci|ck|cl|cm|cn|co|cr|cs|cu|cv|cx|cy|cz|dd|de|dj|dk|dm|do|dz|ec|ee|eg|eh|er|es|et|eu|fi|fj|fk|fm|fo|fr|ga|gb|gd|ge|gf|gg|gh|gi|gl|gm|gn|gp|gq|gr|gs|gt|gu|gw|gy|hk|hm|hn|hr|ht|hu|id|ie|il|im|in|io|iq|ir|is|it|je|jm|jo|jp|ke|kg|kh|ki|km|kn|kp|kr|kw|ky|kz|la|lb|lc|li|lk|lr|ls|lt|lu|lv|ly|ma|mc|md|me|mg|mh|mk|ml|mm|mn|mo|mp|mq|mr|ms|mt|mu|mv|mw|mx|my|mz|na|nc|ne|nf|ng|ni|nl|no|np|nr|nu|nz|om|pa|pe|pf|pg|ph|pk|pl|pm|pn|pr|ps|pt|pw|py|qa|re|ro|rs|ru|rw|sa|sb|sc|sd|se|sg|sh|si|sj|Ja|sk|sl|sm|sn|so|sr|ss|st|su|sv|sx|sy|sz|tc|td|tf|tg|th|tj|tk|tl|tm|tn|to|tp|tr|tt|tv|tw|tz|ua|ug|uk|us|uy|uz|va|vc|ve|vg|vi|vn|vu|wf|ws|ye|yt|yu|za|zm|zw)/)(?:[^\\s()<>{}\\[\\]]+|\\([^\\s()]*?\\([^\\s()]+\\)[^\\s()]*?\\)|\\([^\\s]+?\\))+(?:\\([^\\s()]*?\\([^\\s()]+\\)[^\\s()]*?\\)|\\([^\\s]+?\\)|[^\\s`!()\\[\\]{};:'\\\".,<>?«»“”‘’])|(?:(?<!@)[a-z0-9]+(?:[.\\-][a-z0-9]+)*[.](?:com|net|org|edu|gov|mil|aero|asia|biz|cat|coop|info|int|jobs|mobi|museum|name|post|pro|tel|travel|xxx|ac|ad|ae|af|ag|ai|al|am|an|ao|aq|ar|as|at|au|aw|ax|az|ba|bb|bd|be|bf|bg|bh|bi|bj|bm|bn|bo|br|bs|bt|bv|bw|by|bz|ca|cc|cd|cf|cg|ch|ci|ck|cl|cm|cn|co|cr|cs|cu|cv|cx|cy|cz|dd|de|dj|dk|dm|do|dz|ec|ee|eg|eh|er|es|et|eu|fi|fj|fk|fm|fo|fr|ga|gb|gd|ge|gf|gg|gh|gi|gl|gm|gn|gp|gq|gr|gs|gt|gu|gw|gy|hk|hm|hn|hr|ht|hu|id|ie|il|im|in|io|iq|ir|is|it|je|jm|jo|jp|ke|kg|kh|ki|km|kn|kp|kr|kw|ky|kz|la|lb|lc|li|lk|lr|ls|lt|lu|lv|ly|ma|mc|md|me|mg|mh|mk|ml|mm|mn|mo|mp|mq|mr|ms|mt|mu|mv|mw|mx|my|mz|na|nc|ne|nf|ng|ni|nl|no|np|nr|nu|nz|om|pa|pe|pf|pg|ph|pk|pl|pm|pn|pr|ps|pt|pw|py|qa|re|ro|rs|ru|rw|sa|sb|sc|sd|se|sg|sh|si|sj|Ja|sk|sl|sm|sn|so|sr|ss|st|su|sv|sx|sy|sz|tc|td|tf|tg|th|tj|tk|tl|tm|tn|to|tp|tr|tt|tv|tw|tz|ua|ug|uk|us|uy|uz|va|vc|ve|vg|vi|vn|vu|wf|ws|ye|yt|yu|za|zm|zw)\\b/?(?!@)))\"\n",
    "subs_2['selftext'] = subs_2['selftext'].str.replace(rgx,\" \")"
   ]
  },
  {
   "cell_type": "markdown",
   "metadata": {},
   "source": [
    "Next I shall remove punctuation, tokenize the text and remove any stop words and words less than 4 letters long"
   ]
  },
  {
   "cell_type": "code",
   "execution_count": 9,
   "metadata": {},
   "outputs": [],
   "source": [
    "# Remove punctuation and convert all to lowercase\n",
    "\n",
    "subs_2['selftext'] = subs_2['selftext'].str.replace('\\W', ' ').str.lower()\n",
    "\n",
    "# Tockenize\n",
    "\n",
    "subs_2['selftext'] = subs_2['selftext'].apply(nltk.word_tokenize)\n"
   ]
  },
  {
   "cell_type": "code",
   "execution_count": 10,
   "metadata": {},
   "outputs": [],
   "source": [
    "# Remove stop words and anything less than 4 letters long\n",
    "''' \n",
    "By the very nature of the subreddit, every submission should be about python.\n",
    "As such, the word 'python' can also be removed.\n",
    "\n",
    "After running the model, the term 'x200b' is common. \n",
    "This is to do with a zero-width space character and is in the dataset due to how the data is encoded. \n",
    "It does not add any information and so will be removed.\n",
    "'''\n",
    "\n",
    "stopwords = set(nltk.corpus.stopwords.words('english'))\n",
    "stopwords.add('python')\n",
    "stopwords.add('x200b')\n",
    "\n",
    "def no_stop(list):\n",
    "    \n",
    "    nostops = []\n",
    "    \n",
    "    for l in list:\n",
    "        if l not in stopwords:\n",
    "            nostops.append(l)\n",
    "    \n",
    "    return nostops\n",
    "\n",
    "            \n",
    "def no_short(list):\n",
    "    \n",
    "    noshort = []\n",
    "    \n",
    "    for l in list:\n",
    "        if len(l) >= 4:\n",
    "            noshort.append(l)\n",
    "    \n",
    "    return noshort\n"
   ]
  },
  {
   "cell_type": "code",
   "execution_count": 11,
   "metadata": {},
   "outputs": [],
   "source": [
    "strin = 'This is a test string to see if my functions work super duper well'\n",
    "strin = nltk.word_tokenize(strin)"
   ]
  },
  {
   "cell_type": "code",
   "execution_count": 12,
   "metadata": {},
   "outputs": [
    {
     "data": {
      "text/plain": [
       "['This',\n",
       " 'test',\n",
       " 'string',\n",
       " 'see',\n",
       " 'functions',\n",
       " 'work',\n",
       " 'super',\n",
       " 'duper',\n",
       " 'well']"
      ]
     },
     "execution_count": 12,
     "metadata": {},
     "output_type": "execute_result"
    }
   ],
   "source": [
    "no_stop(strin)"
   ]
  },
  {
   "cell_type": "code",
   "execution_count": 13,
   "metadata": {},
   "outputs": [
    {
     "data": {
      "text/plain": [
       "['This', 'test', 'string', 'functions', 'work', 'super', 'duper', 'well']"
      ]
     },
     "execution_count": 13,
     "metadata": {},
     "output_type": "execute_result"
    }
   ],
   "source": [
    "no_short(strin)"
   ]
  },
  {
   "cell_type": "code",
   "execution_count": 14,
   "metadata": {},
   "outputs": [],
   "source": [
    "# Apply my tested functions to the 'selftext' column\n",
    "\n",
    "subs_2['selftext'] = subs_2['selftext'].apply(no_stop).apply(no_short)"
   ]
  },
  {
   "cell_type": "code",
   "execution_count": 15,
   "metadata": {},
   "outputs": [
    {
     "data": {
      "text/plain": [
       "0    [anyone, created, code, tests, page, different...\n",
       "1    [finished, project, unfiltered, review, pizza,...\n",
       "2    [agree, sentiments, shared, thread, medium, tu...\n",
       "3    [guys, know, open, source, project, working, p...\n",
       "4    [made, module, download, youtube, videos, with...\n",
       "Name: selftext, dtype: object"
      ]
     },
     "execution_count": 15,
     "metadata": {},
     "output_type": "execute_result"
    }
   ],
   "source": [
    "subs_2['selftext'].head()"
   ]
  },
  {
   "cell_type": "markdown",
   "metadata": {},
   "source": [
    "The next step in processing the data is to lemmetize and stem the words to bring everything into the present tense and remove endings such as 'ed', 'ly', 's' etc.\n",
    "\n",
    "This can be done using proven functions in the nltk package."
   ]
  },
  {
   "cell_type": "code",
   "execution_count": 16,
   "metadata": {},
   "outputs": [],
   "source": [
    "wnl = nltk.stem.WordNetLemmatizer()\n",
    "stemmer = nltk.stem.SnowballStemmer('english')"
   ]
  },
  {
   "cell_type": "markdown",
   "metadata": {},
   "source": [
    "wnl.lemmatize() takes two arguements, the word and a 'part-of-speech' tag. For now I will focus on just converting the verbs, pos='v', but I may come back to this in the future to ammend it to account for all words such that the stemmer, which results in stems wich aren't proper English, isn't needed."
   ]
  },
  {
   "cell_type": "code",
   "execution_count": 17,
   "metadata": {},
   "outputs": [],
   "source": [
    "# Function to lemmatize and stem the text\n",
    "\n",
    "def lemmatize_stemmer(list):\n",
    "    new_list = []\n",
    "    for word in list:\n",
    "        new_list.append(stemmer.stem(wnl.lemmatize(word, pos='v')))\n",
    "        \n",
    "    return new_list"
   ]
  },
  {
   "cell_type": "code",
   "execution_count": 18,
   "metadata": {},
   "outputs": [
    {
     "name": "stdout",
     "output_type": "stream",
     "text": [
      "['finished', 'project', 'unfiltered', 'review', 'pizza', 'places', 'city', 'authentic', 'pizza', 'places', 'boston', 'said', 'combining', 'computer', 'vision', 'machine', 'learning', 'ease', 'search', 'neapolitan', 'pizza', 'based', 'photos', 'public', 'crowd', 'sourced', 'reviews', 'check', 'city', 'learn', 'going', 'hood', 'would', 'glad', 'receive', 'feedback']\n",
      "['finish', 'project', 'unfilt', 'review', 'pizza', 'place', 'citi', 'authent', 'pizza', 'place', 'boston', 'say', 'combin', 'comput', 'vision', 'machin', 'learn', 'eas', 'search', 'neapolitan', 'pizza', 'base', 'photo', 'public', 'crowd', 'sourc', 'review', 'check', 'citi', 'learn', 'go', 'hood', 'would', 'glad', 'receiv', 'feedback']\n"
     ]
    }
   ],
   "source": [
    "# Test function of some rows in subs_2\n",
    "\n",
    "slftxt = subs_2['selftext'][1]\n",
    "print(slftxt)\n",
    "cleaned = lemmatize_stemmer(slftxt)\n",
    "print(cleaned)"
   ]
  },
  {
   "cell_type": "markdown",
   "metadata": {},
   "source": [
    "Although not perfect, this will be good enough for the purpose of this project at this stage. The function will now be applied to subs_2."
   ]
  },
  {
   "cell_type": "code",
   "execution_count": 19,
   "metadata": {},
   "outputs": [],
   "source": [
    "subs_2['selftext'] = subs_2['selftext'].apply(lemmatize_stemmer)"
   ]
  },
  {
   "cell_type": "code",
   "execution_count": 20,
   "metadata": {},
   "outputs": [
    {
     "data": {
      "text/plain": [
       "0    [anyon, creat, code, test, page, differ, previ...\n",
       "1    [finish, project, unfilt, review, pizza, place...\n",
       "2    [agre, sentiment, share, thread, medium, turn,...\n",
       "3    [guy, know, open, sourc, project, work, projec...\n",
       "4    [make, modul, download, youtub, video, without...\n",
       "Name: selftext, dtype: object"
      ]
     },
     "execution_count": 20,
     "metadata": {},
     "output_type": "execute_result"
    }
   ],
   "source": [
    "subs_2['selftext'].head()"
   ]
  },
  {
   "cell_type": "markdown",
   "metadata": {},
   "source": [
    "The next step is to produce a bag-of-words model from the texts. This can be done with the assistance of the gensim package.\n",
    "\n",
    "First, a dictionary containing a word count for each word will be produced. This will then be cut down by filtering out any words that appear in less than 20 documents and in more than 50 % as these words will be be either to rare or to common to use to classify topics.\n",
    "\n",
    "Once this has been done, the dictionary will be used to create a bag-of-words model for each submission in the data set."
   ]
  },
  {
   "cell_type": "code",
   "execution_count": 21,
   "metadata": {},
   "outputs": [],
   "source": [
    "slf_dictionary = gensim.corpora.Dictionary(subs_2['selftext'])\n",
    "slf_dictionary.filter_extremes(no_below=20, no_above=0.5)\n",
    "slf_bow_corpus = [slf_dictionary.doc2bow(doc) for doc in subs_2['selftext']]"
   ]
  },
  {
   "cell_type": "code",
   "execution_count": 22,
   "metadata": {},
   "outputs": [
    {
     "name": "stdout",
     "output_type": "stream",
     "text": [
      "Word 0 (\"anyon\") appears 2 time.\n",
      "Word 1 (\"autom\") appears 1 time.\n",
      "Word 2 (\"basic\") appears 1 time.\n",
      "Word 3 (\"code\") appears 1 time.\n",
      "Word 4 (\"creat\") appears 1 time.\n",
      "Word 5 (\"differ\") appears 1 time.\n",
      "Word 6 (\"display\") appears 1 time.\n",
      "Word 7 (\"enough\") appears 1 time.\n",
      "Word 8 (\"get\") appears 1 time.\n",
      "Word 9 (\"keep\") appears 1 time.\n",
      "Word 10 (\"need\") appears 1 time.\n",
      "Word 11 (\"page\") appears 2 time.\n",
      "Word 12 (\"previous\") appears 1 time.\n",
      "Word 13 (\"process\") appears 1 time.\n",
      "Word 14 (\"refresh\") appears 1 time.\n",
      "Word 15 (\"right\") appears 1 time.\n",
      "Word 16 (\"test\") appears 1 time.\n",
      "Word 17 (\"ticket\") appears 1 time.\n",
      "Word 18 (\"tri\") appears 1 time.\n"
     ]
    }
   ],
   "source": [
    "# Preview BOW for the nth submission in the data set\n",
    "\n",
    "slf_bow_first_sub = slf_bow_corpus[0]\n",
    "\n",
    "for i in range(len(slf_bow_first_sub)):\n",
    "    print(f'Word {slf_bow_first_sub[i][0]} (\"{slf_dictionary[slf_bow_first_sub[i][0]]}\") appears {slf_bow_first_sub[i][1]} time.')"
   ]
  },
  {
   "cell_type": "code",
   "execution_count": 23,
   "metadata": {},
   "outputs": [
    {
     "name": "stdout",
     "output_type": "stream",
     "text": [
      "[[(0, 2), (1, 1), (2, 1), (3, 1), (4, 1), (5, 1), (6, 1), (7, 1), (8, 1), (9, 1), (10, 1), (11, 2), (12, 1), (13, 1), (14, 1), (15, 1), (16, 1), (17, 1), (18, 1)]]\n"
     ]
    }
   ],
   "source": [
    "# What does slf_bow_corpus actually look like?\n",
    "\n",
    "print(slf_bow_corpus[:1])"
   ]
  },
  {
   "cell_type": "markdown",
   "metadata": {},
   "source": [
    "### Selftext Topic Model (LDA)\n",
    "\n",
    "The bag-of-words model based on the selftext column is now ready to train a model. I have chosen to start with LDA. In addition to the corpus and the dictionary, the number of topics also needs to be provided. At this time I shall train the model for 10 topics. In the future, I may look to find a way to determine the optimum number of topics.\n",
    "\n",
    "I will run LDA using multiple CPU cores to parallelize and speed up the model training. \n",
    "\n",
    "some of the parameters involved are\n",
    "\n",
    "* **num_topics** is the number of topics to be extracted from the corpus.\n",
    "* **id2word** is a mapping from word id's to the actual words, in this case, our dictionary.\n",
    "* **workers** is the number of extra cores to use.\n",
    "* **passes** is the number of training passes through the corpus.\n"
   ]
  },
  {
   "cell_type": "code",
   "execution_count": 24,
   "metadata": {},
   "outputs": [],
   "source": [
    "slf_lda = gensim.models.LdaMulticore(slf_bow_corpus, num_topics=10, \n",
    "                                     id2word= slf_dictionary, passes=10, workers=2)"
   ]
  },
  {
   "cell_type": "code",
   "execution_count": 25,
   "metadata": {},
   "outputs": [
    {
     "name": "stdout",
     "output_type": "stream",
     "text": [
      "Coherence Score: 0.60\n"
     ]
    }
   ],
   "source": [
    "# Compute coherence score (used to judge how good a model is, higher is better)\n",
    "\n",
    "slf_lda_coherence_model = gensim.models.CoherenceModel(model=slf_lda, texts=subs_2['selftext'], \n",
    "                                                       dictionary=slf_dictionary, coherence='c_v')\n",
    "slf_lda_coherence = slf_lda_coherence_model.get_coherence()\n",
    "\n",
    "print(f'Coherence Score: {slf_lda_coherence:.2f}')"
   ]
  },
  {
   "cell_type": "code",
   "execution_count": 26,
   "metadata": {},
   "outputs": [
    {
     "name": "stdout",
     "output_type": "stream",
     "text": [
      "Topic: 0 \n",
      "Words: 0.022*\"use\" + 0.018*\"project\" + 0.013*\"librari\" + 0.010*\"work\" + 0.010*\"code\" + 0.009*\"tool\" + 0.009*\"like\" + 0.009*\"make\" + 0.009*\"develop\" + 0.009*\"github\"\n",
      "\n",
      "\n",
      "Topic: 1 \n",
      "Words: 0.030*\"import\" + 0.021*\"request\" + 0.020*\"line\" + 0.016*\"file\" + 0.016*\"messag\" + 0.015*\"user\" + 0.013*\"data\" + 0.013*\"json\" + 0.012*\"server\" + 0.012*\"call\"\n",
      "\n",
      "\n",
      "Topic: 2 \n",
      "Words: 0.051*\"video\" + 0.022*\"use\" + 0.022*\"code\" + 0.018*\"make\" + 0.015*\"imag\" + 0.015*\"text\" + 0.014*\"link\" + 0.014*\"learn\" + 0.014*\"youtub\" + 0.013*\"turtl\"\n",
      "\n",
      "\n",
      "Topic: 3 \n",
      "Words: 0.036*\"learn\" + 0.014*\"start\" + 0.014*\"would\" + 0.014*\"program\" + 0.013*\"want\" + 0.013*\"project\" + 0.013*\"know\" + 0.011*\"like\" + 0.010*\"help\" + 0.010*\"cours\"\n",
      "\n",
      "\n",
      "Topic: 4 \n",
      "Words: 0.021*\"like\" + 0.020*\"make\" + 0.020*\"work\" + 0.020*\"code\" + 0.016*\"know\" + 0.015*\"would\" + 0.015*\"program\" + 0.015*\"tri\" + 0.013*\"want\" + 0.012*\"use\"\n",
      "\n",
      "\n",
      "Topic: 5 \n",
      "Words: 0.044*\"file\" + 0.022*\"script\" + 0.016*\"use\" + 0.015*\"want\" + 0.014*\"download\" + 0.013*\"would\" + 0.012*\"creat\" + 0.012*\"work\" + 0.012*\"need\" + 0.012*\"make\"\n",
      "\n",
      "\n",
      "Topic: 6 \n",
      "Words: 0.027*\"data\" + 0.022*\"valu\" + 0.022*\"list\" + 0.017*\"function\" + 0.013*\"number\" + 0.012*\"use\" + 0.009*\"time\" + 0.009*\"column\" + 0.009*\"return\" + 0.008*\"exampl\"\n",
      "\n",
      "\n",
      "Topic: 7 \n",
      "Words: 0.047*\"instal\" + 0.045*\"cython\" + 0.042*\"file\" + 0.038*\"build\" + 0.029*\"copi\" + 0.029*\"packag\" + 0.027*\"includ\" + 0.024*\"error\" + 0.023*\"win32\" + 0.021*\"user\"\n",
      "\n",
      "\n",
      "Topic: 8 \n",
      "Words: 0.111*\"print\" + 0.043*\"input\" + 0.021*\"name\" + 0.021*\"els\" + 0.021*\"return\" + 0.020*\"enter\" + 0.018*\"elif\" + 0.018*\"number\" + 0.015*\"true\" + 0.015*\"random\"\n",
      "\n",
      "\n",
      "Topic: 9 \n",
      "Words: 0.186*\"self\" + 0.045*\"imag\" + 0.044*\"pygam\" + 0.029*\"class\" + 0.020*\"import\" + 0.019*\"card\" + 0.019*\"event\" + 0.015*\"load\" + 0.014*\"width\" + 0.014*\"rect\"\n",
      "\n",
      "\n"
     ]
    }
   ],
   "source": [
    "# Visualise the topics\n",
    "\n",
    "for idx, topic in slf_lda.print_topics(-1):\n",
    "    print(f'Topic: {idx} \\nWords: {topic}')\n",
    "    print('\\n') "
   ]
  },
  {
   "cell_type": "markdown",
   "metadata": {},
   "source": [
    "### Number of topics optimisation\n",
    "\n",
    "Now that I know that the model training works I need to determine the optimum number of topics. I shall do this by training models with different numbers of topics and then selecting the model with the largest coherence score. The coherence value seems to change every time the model is trained. As such I shall run the tests a number of time to determine the optimum."
   ]
  },
  {
   "cell_type": "code",
   "execution_count": 27,
   "metadata": {},
   "outputs": [],
   "source": [
    "def compute_coherence_values(dictionary, corpus, texts, limit, start=4, step=2):\n",
    "    \n",
    "    coherence_values = []\n",
    "    model_list = []\n",
    "    for num_topics in range(start, limit, step):\n",
    "        model = gensim.models.LdaMulticore(corpus=corpus, num_topics=num_topics, id2word=dictionary)\n",
    "        model_list.append(model)\n",
    "        coherencemodel = gensim.models.CoherenceModel(model=model, texts=texts, dictionary=dictionary, coherence='c_v')\n",
    "        coherence_values.append(coherencemodel.get_coherence())\n",
    "\n",
    "    return model_list, coherence_values"
   ]
  },
  {
   "cell_type": "code",
   "execution_count": 57,
   "metadata": {},
   "outputs": [],
   "source": [
    "model_list, coherence_values_1 = compute_coherence_values(dictionary=slf_dictionary, corpus=slf_bow_corpus, texts=subs_2['selftext'], limit=26)"
   ]
  },
  {
   "cell_type": "code",
   "execution_count": 58,
   "metadata": {},
   "outputs": [
    {
     "data": {
      "image/png": "[encoded data removed]",
      "text/plain": [
       "<Figure size 432x288 with 1 Axes>"
      ]
     },
     "metadata": {
      "needs_background": "light"
     },
     "output_type": "display_data"
    }
   ],
   "source": [
    "limit=26; start=4; step=2;\n",
    "x = range(start, limit, step)\n",
    "plt.plot(x, coherence_values_1)\n",
    "plt.xlabel(\"Num Topics\")\n",
    "plt.ylabel(\"Coherence score\")\n",
    "plt.legend((\"coherence_values\"), loc='best')\n",
    "plt.show()"
   ]
  },
  {
   "cell_type": "code",
   "execution_count": 59,
   "metadata": {},
   "outputs": [],
   "source": [
    "model_list, coherence_values_2 = compute_coherence_values(dictionary=slf_dictionary, corpus=slf_bow_corpus, texts=subs_2['selftext'], limit=26)"
   ]
  },
  {
   "cell_type": "code",
   "execution_count": 60,
   "metadata": {},
   "outputs": [
    {
     "data": {
      "image/png": "[encoded data removed]",
      "text/plain": [
       "<Figure size 432x288 with 1 Axes>"
      ]
     },
     "metadata": {
      "needs_background": "light"
     },
     "output_type": "display_data"
    }
   ],
   "source": [
    "limit=26; start=4; step=2;\n",
    "x = range(start, limit, step)\n",
    "plt.plot(x, coherence_values_2)\n",
    "plt.xlabel(\"Num Topics\")\n",
    "plt.ylabel(\"Coherence score\")\n",
    "plt.legend((\"coherence_values\"), loc='best')\n",
    "plt.show()"
   ]
  },
  {
   "cell_type": "code",
   "execution_count": 61,
   "metadata": {},
   "outputs": [],
   "source": [
    "model_list, coherence_values_3 = compute_coherence_values(dictionary=slf_dictionary, corpus=slf_bow_corpus, texts=subs_2['selftext'], limit=26)"
   ]
  },
  {
   "cell_type": "code",
   "execution_count": 62,
   "metadata": {},
   "outputs": [
    {
     "data": {
      "image/png": "[encoded data removed]",
      "text/plain": [
       "<Figure size 432x288 with 1 Axes>"
      ]
     },
     "metadata": {
      "needs_background": "light"
     },
     "output_type": "display_data"
    }
   ],
   "source": [
    "limit=26; start=4; step=2;\n",
    "x = range(start, limit, step)\n",
    "plt.plot(x, coherence_values_3)\n",
    "plt.xlabel(\"Num Topics\")\n",
    "plt.ylabel(\"Coherence score\")\n",
    "plt.legend((\"coherence_values\"), loc='best')\n",
    "plt.show()"
   ]
  },
  {
   "cell_type": "code",
   "execution_count": 63,
   "metadata": {},
   "outputs": [],
   "source": [
    "model_list, coherence_values_4 = compute_coherence_values(dictionary=slf_dictionary, corpus=slf_bow_corpus, texts=subs_2['selftext'], limit=26)"
   ]
  },
  {
   "cell_type": "code",
   "execution_count": 64,
   "metadata": {},
   "outputs": [
    {
     "data": {
      "image/png": "[encoded data removed]",
      "text/plain": [
       "<Figure size 432x288 with 1 Axes>"
      ]
     },
     "metadata": {
      "needs_background": "light"
     },
     "output_type": "display_data"
    }
   ],
   "source": [
    "limit=26; start=4; step=2;\n",
    "x = range(start, limit, step)\n",
    "plt.plot(x, coherence_values_4)\n",
    "plt.xlabel(\"Num Topics\")\n",
    "plt.ylabel(\"Coherence score\")\n",
    "plt.legend((\"coherence_values\"), loc='best')\n",
    "plt.show()"
   ]
  },
  {
   "cell_type": "code",
   "execution_count": 65,
   "metadata": {},
   "outputs": [],
   "source": [
    "coherence_values = [np.array(coherence_values_1), np.array(coherence_values_2), np.array(coherence_values_3), np.array(coherence_values_4)]\n",
    "mean_coherence = np.mean(coherence_values, axis=0)"
   ]
  },
  {
   "cell_type": "code",
   "execution_count": 66,
   "metadata": {},
   "outputs": [
    {
     "data": {
      "image/png": "[encoded data removed]",
      "text/plain": [
       "<Figure size 432x288 with 1 Axes>"
      ]
     },
     "metadata": {
      "needs_background": "light"
     },
     "output_type": "display_data"
    }
   ],
   "source": [
    "limit=26; start=4; step=2;\n",
    "x = range(start, limit, step)\n",
    "plt.plot(x, mean_coherence)\n",
    "plt.xlabel(\"Num Topics\")\n",
    "plt.ylabel(\"Mean Coherence score\")\n",
    "plt.legend((\"coherence_values\"), loc='best')\n",
    "plt.show()"
   ]
  },
  {
   "cell_type": "code",
   "execution_count": 67,
   "metadata": {},
   "outputs": [
    {
     "data": {
      "text/plain": [
       "array([0.53399934, 0.50849986, 0.51928449, 0.5036335 , 0.51154736,\n",
       "       0.51547222, 0.51649138, 0.50560674, 0.50464675, 0.50755799,\n",
       "       0.50220087])"
      ]
     },
     "execution_count": 67,
     "metadata": {},
     "output_type": "execute_result"
    }
   ],
   "source": [
    "mean_coherence"
   ]
  },
  {
   "cell_type": "markdown",
   "metadata": {},
   "source": [
    "The testing suggests that the optimum number of topics is 4, followed by 8 and then 16. Not wanting to have too few topics, I shall work with 8.\n",
    "\n",
    "*This result may change if the notebook is ran again from the begining*"
   ]
  },
  {
   "cell_type": "code",
   "execution_count": 80,
   "metadata": {},
   "outputs": [],
   "source": [
    "slf_lda_8_1 = gensim.models.LdaMulticore(slf_bow_corpus, num_topics=8, \n",
    "                                     id2word= slf_dictionary, passes=10, workers=2)\n",
    "slf_lda_coherence_model_8_1 = gensim.models.CoherenceModel(model=slf_lda_8_1, texts=subs_2['selftext'], \n",
    "                                                       dictionary=slf_dictionary, coherence='c_v')\n",
    "slf_lda_coherence_8_1 = slf_lda_coherence_model_8_1.get_coherence()"
   ]
  },
  {
   "cell_type": "code",
   "execution_count": 81,
   "metadata": {},
   "outputs": [],
   "source": [
    "slf_lda_8_2 = gensim.models.LdaMulticore(slf_bow_corpus, num_topics=8, \n",
    "                                     id2word= slf_dictionary, passes=10, workers=2)\n",
    "slf_lda_coherence_model_8_2 = gensim.models.CoherenceModel(model=slf_lda_8_2, texts=subs_2['selftext'], \n",
    "                                                       dictionary=slf_dictionary, coherence='c_v')\n",
    "slf_lda_coherence_8_2 = slf_lda_coherence_model_8_2.get_coherence()"
   ]
  },
  {
   "cell_type": "code",
   "execution_count": 82,
   "metadata": {},
   "outputs": [],
   "source": [
    "slf_lda_8_3 = gensim.models.LdaMulticore(slf_bow_corpus, num_topics=8, \n",
    "                                     id2word= slf_dictionary, passes=10, workers=2)\n",
    "slf_lda_coherence_model_8_3 = gensim.models.CoherenceModel(model=slf_lda_8_3, texts=subs_2['selftext'], \n",
    "                                                       dictionary=slf_dictionary, coherence='c_v')\n",
    "slf_lda_coherence_8_3 = slf_lda_coherence_model_8_3.get_coherence()"
   ]
  },
  {
   "cell_type": "code",
   "execution_count": 83,
   "metadata": {},
   "outputs": [],
   "source": [
    "slf_lda_8_4 = gensim.models.LdaMulticore(slf_bow_corpus, num_topics=8, \n",
    "                                     id2word= slf_dictionary, passes=10, workers=2)\n",
    "slf_lda_coherence_model_8_4 = gensim.models.CoherenceModel(model=slf_lda_8_4, texts=subs_2['selftext'], \n",
    "                                                       dictionary=slf_dictionary, coherence='c_v')\n",
    "slf_lda_coherence_8_4 = slf_lda_coherence_model_8_4.get_coherence()"
   ]
  },
  {
   "cell_type": "code",
   "execution_count": 84,
   "metadata": {},
   "outputs": [
    {
     "name": "stdout",
     "output_type": "stream",
     "text": [
      "Coherence Score 1: 0.56\n",
      "Coherence Score 2: 0.59\n",
      "Coherence Score 3: 0.57\n",
      "Coherence Score 4: 0.57\n"
     ]
    }
   ],
   "source": [
    "print(f'Coherence Score 1: {slf_lda_coherence_8_1:.2f}')\n",
    "\n",
    "print(f'Coherence Score 2: {slf_lda_coherence_8_2:.2f}')\n",
    "\n",
    "print(f'Coherence Score 3: {slf_lda_coherence_8_3:.2f}')\n",
    "\n",
    "print(f'Coherence Score 4: {slf_lda_coherence_8_4:.2f}')"
   ]
  },
  {
   "cell_type": "markdown",
   "metadata": {},
   "source": [
    "The second model has the highest coherence score of 0.59 so I will move forward with this model."
   ]
  },
  {
   "cell_type": "code",
   "execution_count": 85,
   "metadata": {},
   "outputs": [
    {
     "name": "stdout",
     "output_type": "stream",
     "text": [
      "Topic: 0 \n",
      "Words: 0.038*\"imag\" + 0.032*\"pygam\" + 0.026*\"game\" + 0.021*\"player\" + 0.019*\"color\" + 0.017*\"import\" + 0.017*\"button\" + 0.015*\"screen\" + 0.014*\"card\" + 0.013*\"self\"\n",
      "\n",
      "\n",
      "Topic: 1 \n",
      "Words: 0.090*\"print\" + 0.037*\"input\" + 0.023*\"return\" + 0.020*\"name\" + 0.019*\"line\" + 0.018*\"number\" + 0.016*\"els\" + 0.016*\"enter\" + 0.015*\"import\" + 0.013*\"elif\"\n",
      "\n",
      "\n",
      "Topic: 2 \n",
      "Words: 0.022*\"data\" + 0.018*\"list\" + 0.017*\"function\" + 0.014*\"valu\" + 0.013*\"text\" + 0.013*\"use\" + 0.012*\"need\" + 0.012*\"would\" + 0.012*\"column\" + 0.010*\"like\"\n",
      "\n",
      "\n",
      "Topic: 3 \n",
      "Words: 0.035*\"learn\" + 0.015*\"program\" + 0.015*\"start\" + 0.014*\"want\" + 0.014*\"know\" + 0.014*\"would\" + 0.012*\"project\" + 0.012*\"like\" + 0.012*\"help\" + 0.010*\"thank\"\n",
      "\n",
      "\n",
      "Topic: 4 \n",
      "Words: 0.024*\"use\" + 0.019*\"data\" + 0.016*\"project\" + 0.013*\"video\" + 0.011*\"librari\" + 0.010*\"github\" + 0.010*\"model\" + 0.009*\"code\" + 0.008*\"process\" + 0.008*\"sourc\"\n",
      "\n",
      "\n",
      "Topic: 5 \n",
      "Words: 0.019*\"work\" + 0.018*\"make\" + 0.017*\"like\" + 0.017*\"code\" + 0.016*\"use\" + 0.014*\"would\" + 0.013*\"script\" + 0.011*\"want\" + 0.011*\"know\" + 0.010*\"need\"\n",
      "\n",
      "\n",
      "Topic: 6 \n",
      "Words: 0.080*\"self\" + 0.024*\"class\" + 0.022*\"import\" + 0.019*\"request\" + 0.015*\"server\" + 0.011*\"connect\" + 0.010*\"user\" + 0.010*\"data\" + 0.010*\"return\" + 0.010*\"respons\"\n",
      "\n",
      "\n",
      "Topic: 7 \n",
      "Words: 0.056*\"file\" + 0.041*\"instal\" + 0.037*\"cython\" + 0.032*\"build\" + 0.028*\"packag\" + 0.025*\"copi\" + 0.022*\"includ\" + 0.022*\"user\" + 0.022*\"error\" + 0.020*\"line\"\n",
      "\n",
      "\n"
     ]
    }
   ],
   "source": [
    "for idx, topic in slf_lda_8_2.print_topics(-1):\n",
    "    print(f'Topic: {idx} \\nWords: {topic}')\n",
    "    print('\\n') "
   ]
  },
  {
   "cell_type": "markdown",
   "metadata": {},
   "source": [
    "As such I am suggesting that the topics are as follows:\n",
    "\n",
    "* Topic 0: Game development\n",
    "* Topic 1: Code\n",
    "* Topic 2: \n",
    "* Topic 3: Want to learn python\n",
    "* Topic 4: Github project\n",
    "* Topic 5: \n",
    "* Topic 6: Web Scraping\n",
    "* Topic 7: Cython\n",
    "\n",
    "\n",
    "I am not sure how to label topics 2 and 5 so I shall assgin topics to submissions and then use the submissions to determine the topic"
   ]
  },
  {
   "cell_type": "markdown",
   "metadata": {},
   "source": [
    "### Assigning topics to submissions\n",
    "\n",
    "The topic of each submission will be assigned as the most dominant topic for that submission."
   ]
  },
  {
   "cell_type": "code",
   "execution_count": 101,
   "metadata": {},
   "outputs": [],
   "source": [
    "def define_topics(ldamodel, corpus, submissions):\n",
    "    # Init output\n",
    "    sent_topics_df = pd.DataFrame()\n",
    "\n",
    "    # Get main topic in each document\n",
    "    for i, row in enumerate(ldamodel[corpus]):\n",
    "        row = sorted(row, key=lambda x: (x[1]), reverse=True)\n",
    "        # Get the Dominant topic and Perc Contribution for each document\n",
    "        for j, (topic_num, prop_topic) in enumerate(row):\n",
    "            if j == 0:  # => dominant topic\n",
    "                sent_topics_df = sent_topics_df.append(pd.Series([int(topic_num), round(prop_topic,4)]), ignore_index=True)\n",
    "            else:\n",
    "                break\n",
    "    sent_topics_df.columns = ['Dominant_Topic', 'Perc_Contribution']\n",
    "\n",
    "    # Add original text to the end of the output\n",
    "    sent_topics_df = pd.concat([sent_topics_df, submissions], axis=1)\n",
    "    return(sent_topics_df)"
   ]
  },
  {
   "cell_type": "code",
   "execution_count": 132,
   "metadata": {},
   "outputs": [
    {
     "data": {
      "text/html": [
       "<div>\n",
       "<style scoped>\n",
       "    .dataframe tbody tr th:only-of-type {\n",
       "        vertical-align: middle;\n",
       "    }\n",
       "\n",
       "    .dataframe tbody tr th {\n",
       "        vertical-align: top;\n",
       "    }\n",
       "\n",
       "    .dataframe thead th {\n",
       "        text-align: right;\n",
       "    }\n",
       "</style>\n",
       "<table border=\"1\" class=\"dataframe\">\n",
       "  <thead>\n",
       "    <tr style=\"text-align: right;\">\n",
       "      <th></th>\n",
       "      <th>Document_No</th>\n",
       "      <th>Dominant_Topic</th>\n",
       "      <th>Topic_Perc_Contrib</th>\n",
       "      <th>Submission</th>\n",
       "      <th>Title</th>\n",
       "      <th>Score</th>\n",
       "      <th>num_comments</th>\n",
       "      <th>created_utc</th>\n",
       "    </tr>\n",
       "  </thead>\n",
       "  <tbody>\n",
       "    <tr>\n",
       "      <th>0</th>\n",
       "      <td>0</td>\n",
       "      <td>5.0</td>\n",
       "      <td>0.8396</td>\n",
       "      <td>Hi, has anyone created python code that tests ...</td>\n",
       "      <td>Anybody have sample code to determine if a web...</td>\n",
       "      <td>4</td>\n",
       "      <td>5</td>\n",
       "      <td>1612466550</td>\n",
       "    </tr>\n",
       "    <tr>\n",
       "      <th>1</th>\n",
       "      <td>1</td>\n",
       "      <td>4.0</td>\n",
       "      <td>0.4226</td>\n",
       "      <td>Just finished this project! An unfiltered revi...</td>\n",
       "      <td>Project – Find Neapolitan pizza with AI help</td>\n",
       "      <td>2</td>\n",
       "      <td>0</td>\n",
       "      <td>1612464251</td>\n",
       "    </tr>\n",
       "    <tr>\n",
       "      <th>2</th>\n",
       "      <td>2</td>\n",
       "      <td>5.0</td>\n",
       "      <td>0.3615</td>\n",
       "      <td>I agree with some of the sentiments shared in ...</td>\n",
       "      <td>In response to the \"Medium bad\" thread, here a...</td>\n",
       "      <td>9</td>\n",
       "      <td>4</td>\n",
       "      <td>1612460552</td>\n",
       "    </tr>\n",
       "    <tr>\n",
       "      <th>3</th>\n",
       "      <td>3</td>\n",
       "      <td>5.0</td>\n",
       "      <td>0.7148</td>\n",
       "      <td>When do you guys know when to open source a pr...</td>\n",
       "      <td>To open source or not to open source?</td>\n",
       "      <td>3</td>\n",
       "      <td>8</td>\n",
       "      <td>1612453887</td>\n",
       "    </tr>\n",
       "    <tr>\n",
       "      <th>4</th>\n",
       "      <td>4</td>\n",
       "      <td>5.0</td>\n",
       "      <td>0.4534</td>\n",
       "      <td>I made a python module which download youtube ...</td>\n",
       "      <td>How can i decrypt signature Url of YouTube Videos</td>\n",
       "      <td>2</td>\n",
       "      <td>3</td>\n",
       "      <td>1612453834</td>\n",
       "    </tr>\n",
       "    <tr>\n",
       "      <th>5</th>\n",
       "      <td>5</td>\n",
       "      <td>4.0</td>\n",
       "      <td>0.5506</td>\n",
       "      <td>Hi, everyone!\\n\\nI made a video about how to b...</td>\n",
       "      <td>Real Time Django project with Chart.js and Dja...</td>\n",
       "      <td>3</td>\n",
       "      <td>0</td>\n",
       "      <td>1612451455</td>\n",
       "    </tr>\n",
       "    <tr>\n",
       "      <th>6</th>\n",
       "      <td>6</td>\n",
       "      <td>7.0</td>\n",
       "      <td>0.8277</td>\n",
       "      <td>Can someone please help me to resolve the issu...</td>\n",
       "      <td>Kali Linux Trity Download</td>\n",
       "      <td>0</td>\n",
       "      <td>14</td>\n",
       "      <td>1612443252</td>\n",
       "    </tr>\n",
       "    <tr>\n",
       "      <th>7</th>\n",
       "      <td>7</td>\n",
       "      <td>0.0</td>\n",
       "      <td>0.1250</td>\n",
       "      <td>[https://www.youtube.com/watch?v=Nsv14mjwnMk](...</td>\n",
       "      <td>Creating Virtual Environments in Python</td>\n",
       "      <td>4</td>\n",
       "      <td>2</td>\n",
       "      <td>1612442566</td>\n",
       "    </tr>\n",
       "    <tr>\n",
       "      <th>8</th>\n",
       "      <td>8</td>\n",
       "      <td>3.0</td>\n",
       "      <td>0.6112</td>\n",
       "      <td>Hello my name is Toni and I have master degree...</td>\n",
       "      <td>Looking for partner to help me build Bot for T...</td>\n",
       "      <td>0</td>\n",
       "      <td>9</td>\n",
       "      <td>1612441629</td>\n",
       "    </tr>\n",
       "    <tr>\n",
       "      <th>9</th>\n",
       "      <td>9</td>\n",
       "      <td>4.0</td>\n",
       "      <td>0.5397</td>\n",
       "      <td>I like to take pictures during my holiday and ...</td>\n",
       "      <td>I made a simple drag-and-drop symlinker to eas...</td>\n",
       "      <td>2</td>\n",
       "      <td>0</td>\n",
       "      <td>1612427863</td>\n",
       "    </tr>\n",
       "  </tbody>\n",
       "</table>\n",
       "</div>"
      ],
      "text/plain": [
       "   Document_No  Dominant_Topic  Topic_Perc_Contrib  \\\n",
       "0            0             5.0              0.8396   \n",
       "1            1             4.0              0.4226   \n",
       "2            2             5.0              0.3615   \n",
       "3            3             5.0              0.7148   \n",
       "4            4             5.0              0.4534   \n",
       "5            5             4.0              0.5506   \n",
       "6            6             7.0              0.8277   \n",
       "7            7             0.0              0.1250   \n",
       "8            8             3.0              0.6112   \n",
       "9            9             4.0              0.5397   \n",
       "\n",
       "                                          Submission  \\\n",
       "0  Hi, has anyone created python code that tests ...   \n",
       "1  Just finished this project! An unfiltered revi...   \n",
       "2  I agree with some of the sentiments shared in ...   \n",
       "3  When do you guys know when to open source a pr...   \n",
       "4  I made a python module which download youtube ...   \n",
       "5  Hi, everyone!\\n\\nI made a video about how to b...   \n",
       "6  Can someone please help me to resolve the issu...   \n",
       "7  [https://www.youtube.com/watch?v=Nsv14mjwnMk](...   \n",
       "8  Hello my name is Toni and I have master degree...   \n",
       "9  I like to take pictures during my holiday and ...   \n",
       "\n",
       "                                               Title  Score  num_comments  \\\n",
       "0  Anybody have sample code to determine if a web...      4             5   \n",
       "1       Project – Find Neapolitan pizza with AI help      2             0   \n",
       "2  In response to the \"Medium bad\" thread, here a...      9             4   \n",
       "3              To open source or not to open source?      3             8   \n",
       "4  How can i decrypt signature Url of YouTube Videos      2             3   \n",
       "5  Real Time Django project with Chart.js and Dja...      3             0   \n",
       "6                          Kali Linux Trity Download      0            14   \n",
       "7            Creating Virtual Environments in Python      4             2   \n",
       "8  Looking for partner to help me build Bot for T...      0             9   \n",
       "9  I made a simple drag-and-drop symlinker to eas...      2             0   \n",
       "\n",
       "   created_utc  \n",
       "0   1612466550  \n",
       "1   1612464251  \n",
       "2   1612460552  \n",
       "3   1612453887  \n",
       "4   1612453834  \n",
       "5   1612451455  \n",
       "6   1612443252  \n",
       "7   1612442566  \n",
       "8   1612441629  \n",
       "9   1612427863  "
      ]
     },
     "execution_count": 132,
     "metadata": {},
     "output_type": "execute_result"
    }
   ],
   "source": [
    "df_topic_sents_keywords = define_topics(ldamodel=slf_lda_8_2, corpus=slf_bow_corpus, submissions=subs_1[['selftext', 'title', 'score', 'num_comments', 'created_utc']])\n",
    "\n",
    "# Format\n",
    "df_dominant_topic = df_topic_sents_keywords.reset_index()\n",
    "df_dominant_topic.columns = ['Document_No', 'Dominant_Topic', 'Topic_Perc_Contrib', 'Submission', 'Title', 'Score', 'num_comments', 'created_utc']\n",
    "\n",
    "# Show\n",
    "df_dominant_topic.head(10)"
   ]
  },
  {
   "cell_type": "code",
   "execution_count": 105,
   "metadata": {},
   "outputs": [
    {
     "data": {
      "text/html": [
       "<div>\n",
       "<style scoped>\n",
       "    .dataframe tbody tr th:only-of-type {\n",
       "        vertical-align: middle;\n",
       "    }\n",
       "\n",
       "    .dataframe tbody tr th {\n",
       "        vertical-align: top;\n",
       "    }\n",
       "\n",
       "    .dataframe thead th {\n",
       "        text-align: right;\n",
       "    }\n",
       "</style>\n",
       "<table border=\"1\" class=\"dataframe\">\n",
       "  <thead>\n",
       "    <tr style=\"text-align: right;\">\n",
       "      <th></th>\n",
       "      <th>Dominant_Topic</th>\n",
       "      <th>Submission</th>\n",
       "    </tr>\n",
       "  </thead>\n",
       "  <tbody>\n",
       "    <tr>\n",
       "      <th>31</th>\n",
       "      <td>2.0</td>\n",
       "      <td>When a function is used to decorate another function, the decorator will be lower case, when a class is used to decorate a function, the decorator will be upper case, if one follows naming conventions.\\n\\nBut my gut and the principle of least surprise tells me that there should be a rule whether decorators are lower or upper case.\\n\\nIs there? If not: should there be one?</td>\n",
       "    </tr>\n",
       "    <tr>\n",
       "      <th>32</th>\n",
       "      <td>2.0</td>\n",
       "      <td>When a function is used to decorate another function, the decorator will be lower case, when a class is used to decorate a function, the decorator will be upper case, if one follows naming conventions.\\n\\nBut my gut and the principle of least surprise tells me that there should be a rule whether decorators are lower or upper case.\\n\\nIs there? If not: should there be one?</td>\n",
       "    </tr>\n",
       "    <tr>\n",
       "      <th>33</th>\n",
       "      <td>2.0</td>\n",
       "      <td>When a function is used to decorate another function, the decorator will be lower case, when a class is used to decorate a function, the decorator will be upper case, if one follows naming conventions.\\n\\nBut my gut and the principle of least surprise tells me that there should be a rule whether decorators are lower or upper case.\\n\\nIs there? If not: should there be one?</td>\n",
       "    </tr>\n",
       "    <tr>\n",
       "      <th>56</th>\n",
       "      <td>2.0</td>\n",
       "      <td>I'm using matplotlib and numpy to create a visual representation of the sine and cosine. The output looked interesting in my opinion so I thought I should post it here for others to see.\\n\\n&amp;amp;#x200B;\\n\\n`import numpy as np`  \\n`import matplotlib.pyplot as plt`  \\n`theta = np.linspace(0 ,8 * np.pi, 2000)`  \\n`r1 = np.random.rand() # r1 = cos(r1 * theta)`  \\n`r2 = np.random.rand() # r2 = sin(r2 * theta)`  \\n`# r1 and r2 are between 0 and 1`  \\n`x = np.cos(r1 * theta)`  \\n`y = np.sin(r2 * theta)`  \\n`plt.plot(x, y, \"k\")`  \\n`plt.axis(\"square\")`  \\n`plt.axis([-1.1, 1.1, -1.1, 1.1])`  \\n`plt.axis(\"off\")`  \\n`plt.title(f\"r1={np.round(r1, 2)}, r2={np.round(r2, 2)}\")`  \\n[`plt.show`](https://plt.show)`()`</td>\n",
       "    </tr>\n",
       "    <tr>\n",
       "      <th>98</th>\n",
       "      <td>2.0</td>\n",
       "      <td>VIDEO: https://streamable.com/j3occ7\\n\\nRepo: https://github.com/Fitzy1293/daily-covid\\n\\nPypi: http://pypi.org/project/dailycovid\\n\\nData source: https://github.com/nytimes/covid-19-data\\n\\nIt can be used like that for a whole state or like this on the county level. \\n\\n`dailycovid -sc \"California-Los Angeles\"`\\n\\n`dailycovid -s CA -c \"Los Angeles\"`\\n\\n`dailycovid --state CA --county \"Los Angeles\"`\\n\\nIt downloads the nytimes county level covid data on initial use, or when you use -g as a flag, and parses and splits it up by state into diff files. The actual downloading and creating the initial cache is the slowest, but you only have to do that once a day. \\n\\nNow data stored for each state in different files, when you run it again you just have to go through a file with like 1/50th the data to find a matching county. \\n\\nOnce it is cached it works well, takes about 1.5 seconds per county, there are 3,142 counties in the US, so ~ 80 minutes to create plots and find daily deltas for the whole U.S.</td>\n",
       "    </tr>\n",
       "    <tr>\n",
       "      <th>126</th>\n",
       "      <td>2.0</td>\n",
       "      <td>Create a class called math_op with one instance variable and a method. The instance variable should be numb. The method should be called squared and return the instance variable squared. Create an instance of this class with an initial number of 8. Assign to the variable output the value of the square of the numb without hardcoding. Call the method so that the value which is returned is 64.</td>\n",
       "    </tr>\n",
       "    <tr>\n",
       "      <th>204</th>\n",
       "      <td>2.0</td>\n",
       "      <td>Which Hadoop tools will add maximum value to Big data analysts CV in 2021? \\n\\nRead to know: [https://www.dasca.org/world-of-big-data/article/7-best-big-data-hadoop-analytics-tools-in-2021](https://www.dasca.org/world-of-big-data/article/7-best-big-data-hadoop-analytics-tools-in-2021)</td>\n",
       "    </tr>\n",
       "    <tr>\n",
       "      <th>211</th>\n",
       "      <td>2.0</td>\n",
       "      <td>This week, I decided to improve my file handling skills a little bit more and focus on handling Excel files with Openpyxl. Before this, I only used pandas methods to read Excel file. But Openpyxl seems to be a great module for performing various Excel operations and automating excel reports.\\n\\n[Check out my blog on using Openpyxl.](https://www.pylenin.com/blogs/excel-with-python/#create-a-new-excel-file-with-openpyxl)</td>\n",
       "    </tr>\n",
       "    <tr>\n",
       "      <th>219</th>\n",
       "      <td>2.0</td>\n",
       "      <td>I'm working on an assignment that asks for a summary statistic table of a data set of Covid cases. My data set was called df. I was using df.describe() which gives me most of the information that I need (min, max, mean, etc.) but it doesn't have a row for variance and skew for each of my variables. I did df.skew() and df.var() and found the values that I need. I just can't figure out how to attach these statistics to the df.describe() table. Does anyone know how?</td>\n",
       "    </tr>\n",
       "    <tr>\n",
       "      <th>243</th>\n",
       "      <td>2.0</td>\n",
       "      <td>I made a program that draws district lines around a two-party grid of people (equal proportions for each party) in order to give an unfair advantage to one party. It is written in 100% pure python (only standard library required) using tkinter.\\n\\n![Grid with no districts](https://github.com/mazore/gerrymandering/blob/master/images/no_districts.png)\\n\\nAbove is a grid of people, each colored by which party they vote for. There are 288 blue people and 288 red people.\\n\\n![Grid with square districts](https://github.com/mazore/gerrymandering/blob/master/images/square_districts.png)\\n\\nDistricts are groups of people (16 people in this case) enclosed in black lines, shaded by winner (which party has more\\npeople in the district).\\n\\n![Grid after gerrymandering for blue](https://github.com/mazore/gerrymandering/blob/master/images/gerrymandered_for_blue.png)\\n\\nWe can draw the district lines in such a way that gives blue 31 districts and red only 5.\\n\\n![Grid after gerrymandering for red](https://github.com/mazore/gerrymandering/blob/master/images/gerrymandered_for_red.png)\\n\\nThis is the **same grid** but with lines drawn so that red has 31 districts and blue only has 5.\\n\\nSource code and more information on how it works can be found here: https://github.com/mazore/gerrymandering\\n\\nYou can direct download the exe zipped file here: https://www.dropbox.com/s/n8uh1a8l9s8sxhx/gerrymandering.zip?dl=1</td>\n",
       "    </tr>\n",
       "    <tr>\n",
       "      <th>246</th>\n",
       "      <td>2.0</td>\n",
       "      <td>Can anyone identify either of the 2 guys in the pictures below. The guy in the hood has extremely short wavy blond hair. They are both between 6foot 2 to 6 foot 4 in height. The pictures are taken from iphone 7 plus. There is a USD1000 monetary reward for identifying them. I am in the United States. Please text +1 713 367-3942 and/or email [hzhou002@hotmail.com](mailto:hzhou002@hotmail.com). No games. Excellent Web Skills needed.</td>\n",
       "    </tr>\n",
       "    <tr>\n",
       "      <th>263</th>\n",
       "      <td>2.0</td>\n",
       "      <td>Sebastian compares different approaches to solving the same problem in terms of performance and optimization in Python, I learned a lot from this, so I thought of sharing, have fun &amp;lt;3\\n\\n[Link](https://www.youtube.com/watch?v=YjHsOrOOSuI&amp;amp;feature=youtu.be&amp;amp;ab_channel=EuroPythonConference)</td>\n",
       "    </tr>\n",
       "    <tr>\n",
       "      <th>265</th>\n",
       "      <td>2.0</td>\n",
       "      <td>Hi guys,\\n\\nI learned some python during the last months and now i think I could use it to automate a really boring task at work. It would not only save me a lot of time, but my project leader would love me for such a script.\\n\\n1. I have a list in Excel that has a company name in each cell of one column. \\n2. I need to send one mail per company with the respective name of each company to a mail-address, that would give me an answer via mail with another excel as attachment, that contains the financial infos of the company.\\n3. Next step would be extracting one info (revenue) of each company-excel and put it into the original excel (into another column next to the column with the name of the original excel)\\n\\nAppreciate all support on this project.Thanks in advance :)</td>\n",
       "    </tr>\n",
       "    <tr>\n",
       "      <th>271</th>\n",
       "      <td>2.0</td>\n",
       "      <td>What is the best package/kit to use for text sentiment analysis? I would mostly be using it for articles/article titles/ comments on different platforms using API's. Also have to figure out how to get a continual feed of information instead of downloading a single segment of text I want to analyze - even though I know certain API's have restrictions on how many calls can be made daily/monthly. Any insight would be helpful. Thanks in advance!</td>\n",
       "    </tr>\n",
       "    <tr>\n",
       "      <th>274</th>\n",
       "      <td>2.0</td>\n",
       "      <td>Essentially, if you need a bunch of stock data but don't want to download the csv files manually off of Yahoo Finance, then you can just type in your tickers into this application and it will return a zipped folder of your chosen stocks.\\n\\n[https://stock-scraper-multi.herokuapp.com/](https://stock-scraper-multi.herokuapp.com/)\\n\\nI'm quite new to web dev, so any comments/suggestions would be great!</td>\n",
       "    </tr>\n",
       "    <tr>\n",
       "      <th>313</th>\n",
       "      <td>2.0</td>\n",
       "      <td>This post is an extension to my last post :[The \"Balls in a row\" challenge.](https://paddy3118.blogspot.com/2021/01/the-balls-in-row-challenge.html) \\n\\njacobb11 on [reddit](https://www.reddit.com/r/coding/comments/l2664c/the_balls_in_a_row_challenge/gk4co08?utm_source=share&amp;amp;utm_medium=web2x&amp;amp;context=3) mentioned:\\n\\n&amp;gt;I believe a significantly simpler solution creates a  stack (array) of color/number pairs by scanning the initial array,  pushing color/number pairs on the stack, and removing groups only on the  top of the stack. Constant time deletion with only a single extra  object. 3  \\n \\n\\nThats intriguing ... [I'll write some code](https://paddy3118.blogspot.com/2021/01/balls-in-row-someone-on-reddit.html). ..</td>\n",
       "    </tr>\n",
       "    <tr>\n",
       "      <th>320</th>\n",
       "      <td>2.0</td>\n",
       "      <td>I am trying to create a function that determines if a matrix is a magic square. I have been messing around with it for a while but cannot seem to figure it out. The first three rows should be valid, and the last 4 should be invalid, but they all come back invalid. I am not that fluent in python so I was trying to keep it basic. Anyone have any thoughts?\\n\\n&amp;amp;#x200B;\\n\\nThe grid for reference is\\n\\n4 3 8 9 5 1 2 7 6\\n\\n8 3 4 1 5 9 6 7 2\\n\\n6 1 8 7 5 3 2 9 4\\n\\n6 9 8 7 5 3 2 1 4\\n\\n6 1 8 7 5 3 2 1 4\\n\\n6 1 3 2 9 4 8 7 5\\n\\n5 5 5 5 5 5 5 5 5\\n\\n&amp;amp;#x200B;\\n\\n    def display(grid):\\n        for row in range(len(grid)):\\n            for column in range(len(grid[row])):\\n                print(grid[row][column], end = \" \")\\n        print()\\n    \\n    def find(i, grid):\\n        for row in grid:\\n            for value in row:\\n                if i == value:\\n                    return True\\n        return False\\n    \\n    \\n    def sumColumn(columnIndex, grid):\\n        for column in range(len(grid[0])):\\n            total = 0\\n            for row in range(len(grid)):\\n                total += grid[row][columnIndex]\\n            return total\\n        \\n    \\n    \\n    def isValid(grid):\\n        for i in range(1,10):\\n            if not find(i, grid):\\n                return False\\n    \\n        summation = 15\\n    \\n        for row in grid:\\n            if sum(row) != summation:\\n                return False\\n    \\n        for columnIndex in [0, 1, 2]:\\n            if [0] !=summation:\\n            \\n                return False\\n            \\n            \\n        if grid[0][0] + grid[1][1] + grid[2][2] != summation:\\n            return False\\n    \\n        if grid[0][2] + grid [1][1] + grid[2][0] !=summation:\\n            return False\\n    \\n        return True\\n    \\n    \\n    def main():\\n        f = open(\"input.txt\")\\n        for line in f:\\n            print(line)\\n            current_line = list(map(int,line.split()))\\n            grid = [0]*3\\n            grid[0] = current_line[0:3]\\n            grid[1] = current_line[3:6]\\n            grid[2] = current_line[6:9]\\n            if isValid(grid):\\n                print(\"valid\")\\n            else:\\n                print(\"invalid\")\\n        f.close\\n    \\n        \\n             \\n             \\n        \\n    \\n        \\n    \\n    main()\\n    \\n\\n&amp;amp;#x200B;</td>\n",
       "    </tr>\n",
       "    <tr>\n",
       "      <th>325</th>\n",
       "      <td>2.0</td>\n",
       "      <td>Just a short tutorial (4 minutes long) showing how you can use 7 lines of code to combine multiple CSV files using pandas.\\n\\n[https://youtu.be/dcQs8k9WGbY](https://youtu.be/dcQs8k9WGbY)</td>\n",
       "    </tr>\n",
       "    <tr>\n",
       "      <th>329</th>\n",
       "      <td>2.0</td>\n",
       "      <td>For today's maths class I had to do 2 pie charts and making one would take a lot of time so I decided to make a script to make them for me witch took around 15 minutes. \\n\\n    import matplotlib.pyplot as plt\\n    \\n    def main():\\n    \\ttot_num = input('total number : ')\\n    \\tnr1 = input('nr1 : ')\\n    \\tnr2 = input('nr2 : ')\\n    \\tnr3 = input('nr3 : ')\\n    \\tnr4 = input('nr4 : ')\\n    \\tnr5 = input('nr5 : ')\\n    \\n    \\tfor x in range(5):\\n    \\t\\tgrade3 = int(nr1) / int(tot_num) * 360\\n    \\t\\tgrade4 = int(nr2) / int(tot_num) * 360\\n    \\t\\tgrade5 = int(nr3) / int(tot_num) * 360\\n    \\t\\tgrade6 = int(nr4) / int(tot_num) * 360\\n    \\t\\tgrade7 = int(nr5) / int(tot_num) * 360\\n    \\n    \\tgrade3, grade4, grade5, grade6, grade7 = int(grade3), int(grade4), int(grade5), int(grade6), int(grade7)\\n    \\n    \\tprint(f'\\n{grade3}\\n{grade4}\\n{grade5}\\n{grade6}\\n{grade7}')\\n    \\n    \\n    \\t# Data to plot\\n    \\tlabels = 'grade - 3', 'grade - 4', 'grade - 5', 'grade - 6', 'grade - 7'\\n    \\tsizes = [grade3, grade4, grade5, grade6, grade7]\\n    \\tcolors = ['gold', 'yellowgreen', 'lightcoral', 'lightskyblue', 'red']\\n    \\texplode = (0.1, 0, 0, 0)  # explode 1st slice\\n    \\n    \\t# Plot\\n    \\tplt.pie(sizes, labels=labels, colors=colors,\\n    \\tautopct='%1.1f%%', shadow=True, startangle=140)\\n    \\n    \\tplt.axis('equal')\\n    \\tplt.show()\\n    \\n    if __name__ == '__main__':\\n    \\tmain()\\n\\nPie chart: https://imgur.com/a/Ivj5KGj</td>\n",
       "    </tr>\n",
       "    <tr>\n",
       "      <th>360</th>\n",
       "      <td>2.0</td>\n",
       "      <td>Hi! Despite existing Typer and Clicker, I decided to create my own library to parse command-line arguments. The reason was Typer and Clicker are too heavy to me, but argparse is too low level. But because I created it with my own ideas behind it - it's slightly different from Typer. I use the Optional type to separate positional and optional arguments (because argparse allows using default values for positional arguments). The project is in the early stage, and some options have not been supported yet (epilog, for example). It would be great to know use cases I have missed or feature requests. \\n\\nGithub: [https://github.com/khud/typedparse](https://github.com/khud/typedparse)\\n\\nThank you!</td>\n",
       "    </tr>\n",
       "  </tbody>\n",
       "</table>\n",
       "</div>"
      ],
      "text/plain": [
       "     Dominant_Topic  \\\n",
       "31              2.0   \n",
       "32              2.0   \n",
       "33              2.0   \n",
       "56              2.0   \n",
       "98              2.0   \n",
       "126             2.0   \n",
       "204             2.0   \n",
       "211             2.0   \n",
       "219             2.0   \n",
       "243             2.0   \n",
       "246             2.0   \n",
       "263             2.0   \n",
       "265             2.0   \n",
       "271             2.0   \n",
       "274             2.0   \n",
       "313             2.0   \n",
       "320             2.0   \n",
       "325             2.0   \n",
       "329             2.0   \n",
       "360             2.0   \n",
       "\n",
       "                                                                                                                                                                                                                                                                                                                                                                                                                                                                                                                                                                                                                                                                                                                                                                                                                                                                                                                                                                                                                                                                                                                                                                                                                                                                                                                                                                                                                                                                                                                                                                                                                                                                                                                                                                                                                                                                                                                                                                                                                                                                                                                                                                                                                                                                                                                                                                                                                                        Submission  \n",
       "31                                                                                                                                                                                                                                                                                                                                                                                                                                                                                                                                                                                                                                                                                                                                                                                                                                                                                                                                                                                                                                                                                                                                                                                                                                                                                                                                                                                                                                                                                                                                                                                                                                                                                                                                                                                                                                                                                                                                                                                                                                                          When a function is used to decorate another function, the decorator will be lower case, when a class is used to decorate a function, the decorator will be upper case, if one follows naming conventions.\\n\\nBut my gut and the principle of least surprise tells me that there should be a rule whether decorators are lower or upper case.\\n\\nIs there? If not: should there be one?  \n",
       "32                                                                                                                                                                                                                                                                                                                                                                                                                                                                                                                                                                                                                                                                                                                                                                                                                                                                                                                                                                                                                                                                                                                                                                                                                                                                                                                                                                                                                                                                                                                                                                                                                                                                                                                                                                                                                                                                                                                                                                                                                                                          When a function is used to decorate another function, the decorator will be lower case, when a class is used to decorate a function, the decorator will be upper case, if one follows naming conventions.\\n\\nBut my gut and the principle of least surprise tells me that there should be a rule whether decorators are lower or upper case.\\n\\nIs there? If not: should there be one?  \n",
       "33                                                                                                                                                                                                                                                                                                                                                                                                                                                                                                                                                                                                                                                                                                                                                                                                                                                                                                                                                                                                                                                                                                                                                                                                                                                                                                                                                                                                                                                                                                                                                                                                                                                                                                                                                                                                                                                                                                                                                                                                                                                          When a function is used to decorate another function, the decorator will be lower case, when a class is used to decorate a function, the decorator will be upper case, if one follows naming conventions.\\n\\nBut my gut and the principle of least surprise tells me that there should be a rule whether decorators are lower or upper case.\\n\\nIs there? If not: should there be one?  \n",
       "56                                                                                                                                                                                                                                                                                                                                                                                                                                                                                                                                                                                                                                                                                                                                                                                                                                                                                                                                                                                                                                                                                                                                                                                                                                                                                                                                                                                                                                                                                                                                                                                                                                                                                                           I'm using matplotlib and numpy to create a visual representation of the sine and cosine. The output looked interesting in my opinion so I thought I should post it here for others to see.\\n\\n&amp;#x200B;\\n\\n`import numpy as np`  \\n`import matplotlib.pyplot as plt`  \\n`theta = np.linspace(0 ,8 * np.pi, 2000)`  \\n`r1 = np.random.rand() # r1 = cos(r1 * theta)`  \\n`r2 = np.random.rand() # r2 = sin(r2 * theta)`  \\n`# r1 and r2 are between 0 and 1`  \\n`x = np.cos(r1 * theta)`  \\n`y = np.sin(r2 * theta)`  \\n`plt.plot(x, y, \"k\")`  \\n`plt.axis(\"square\")`  \\n`plt.axis([-1.1, 1.1, -1.1, 1.1])`  \\n`plt.axis(\"off\")`  \\n`plt.title(f\"r1={np.round(r1, 2)}, r2={np.round(r2, 2)}\")`  \\n[`plt.show`](https://plt.show)`()`  \n",
       "98                                                                                                                                                                                                                                                                                                                                                                                                                                                                                                                                                                                                                                                                                                                                                                                                                                                                                                                                                                                                                                                                                                                                                                                                                                                                                                                                                                                            VIDEO: https://streamable.com/j3occ7\\n\\nRepo: https://github.com/Fitzy1293/daily-covid\\n\\nPypi: http://pypi.org/project/dailycovid\\n\\nData source: https://github.com/nytimes/covid-19-data\\n\\nIt can be used like that for a whole state or like this on the county level. \\n\\n`dailycovid -sc \"California-Los Angeles\"`\\n\\n`dailycovid -s CA -c \"Los Angeles\"`\\n\\n`dailycovid --state CA --county \"Los Angeles\"`\\n\\nIt downloads the nytimes county level covid data on initial use, or when you use -g as a flag, and parses and splits it up by state into diff files. The actual downloading and creating the initial cache is the slowest, but you only have to do that once a day. \\n\\nNow data stored for each state in different files, when you run it again you just have to go through a file with like 1/50th the data to find a matching county. \\n\\nOnce it is cached it works well, takes about 1.5 seconds per county, there are 3,142 counties in the US, so ~ 80 minutes to create plots and find daily deltas for the whole U.S.  \n",
       "126                                                                                                                                                                                                                                                                                                                                                                                                                                                                                                                                                                                                                                                                                                                                                                                                                                                                                                                                                                                                                                                                                                                                                                                                                                                                                                                                                                                                                                                                                                                                                                                                                                                                                                                                                                                                                                                                                                                                                                                                                                      Create a class called math_op with one instance variable and a method. The instance variable should be numb. The method should be called squared and return the instance variable squared. Create an instance of this class with an initial number of 8. Assign to the variable output the value of the square of the numb without hardcoding. Call the method so that the value which is returned is 64.  \n",
       "204                                                                                                                                                                                                                                                                                                                                                                                                                                                                                                                                                                                                                                                                                                                                                                                                                                                                                                                                                                                                                                                                                                                                                                                                                                                                                                                                                                                                                                                                                                                                                                                                                                                                                                                                                                                                                                                                                                                                                                                                                                                                                                                                                  Which Hadoop tools will add maximum value to Big data analysts CV in 2021? \\n\\nRead to know: [https://www.dasca.org/world-of-big-data/article/7-best-big-data-hadoop-analytics-tools-in-2021](https://www.dasca.org/world-of-big-data/article/7-best-big-data-hadoop-analytics-tools-in-2021)  \n",
       "211                                                                                                                                                                                                                                                                                                                                                                                                                                                                                                                                                                                                                                                                                                                                                                                                                                                                                                                                                                                                                                                                                                                                                                                                                                                                                                                                                                                                                                                                                                                                                                                                                                                                                                                                                                                                                                                                                                                                                                                                         This week, I decided to improve my file handling skills a little bit more and focus on handling Excel files with Openpyxl. Before this, I only used pandas methods to read Excel file. But Openpyxl seems to be a great module for performing various Excel operations and automating excel reports.\\n\\n[Check out my blog on using Openpyxl.](https://www.pylenin.com/blogs/excel-with-python/#create-a-new-excel-file-with-openpyxl)  \n",
       "219                                                                                                                                                                                                                                                                                                                                                                                                                                                                                                                                                                                                                                                                                                                                                                                                                                                                                                                                                                                                                                                                                                                                                                                                                                                                                                                                                                                                                                                                                                                                                                                                                                                                                                                                                                                                                                                                                                                                                            I'm working on an assignment that asks for a summary statistic table of a data set of Covid cases. My data set was called df. I was using df.describe() which gives me most of the information that I need (min, max, mean, etc.) but it doesn't have a row for variance and skew for each of my variables. I did df.skew() and df.var() and found the values that I need. I just can't figure out how to attach these statistics to the df.describe() table. Does anyone know how?  \n",
       "243                                                                                                                                                                                                                                                                                                                                                                                                                                                                                                                                                                                                                                                                                                                                                                                                                                                                                                                                                                         I made a program that draws district lines around a two-party grid of people (equal proportions for each party) in order to give an unfair advantage to one party. It is written in 100% pure python (only standard library required) using tkinter.\\n\\n![Grid with no districts](https://github.com/mazore/gerrymandering/blob/master/images/no_districts.png)\\n\\nAbove is a grid of people, each colored by which party they vote for. There are 288 blue people and 288 red people.\\n\\n![Grid with square districts](https://github.com/mazore/gerrymandering/blob/master/images/square_districts.png)\\n\\nDistricts are groups of people (16 people in this case) enclosed in black lines, shaded by winner (which party has more\\npeople in the district).\\n\\n![Grid after gerrymandering for blue](https://github.com/mazore/gerrymandering/blob/master/images/gerrymandered_for_blue.png)\\n\\nWe can draw the district lines in such a way that gives blue 31 districts and red only 5.\\n\\n![Grid after gerrymandering for red](https://github.com/mazore/gerrymandering/blob/master/images/gerrymandered_for_red.png)\\n\\nThis is the **same grid** but with lines drawn so that red has 31 districts and blue only has 5.\\n\\nSource code and more information on how it works can be found here: https://github.com/mazore/gerrymandering\\n\\nYou can direct download the exe zipped file here: https://www.dropbox.com/s/n8uh1a8l9s8sxhx/gerrymandering.zip?dl=1  \n",
       "246                                                                                                                                                                                                                                                                                                                                                                                                                                                                                                                                                                                                                                                                                                                                                                                                                                                                                                                                                                                                                                                                                                                                                                                                                                                                                                                                                                                                                                                                                                                                                                                                                                                                                                                                                                                                                                                                                                                                                                                              Can anyone identify either of the 2 guys in the pictures below. The guy in the hood has extremely short wavy blond hair. They are both between 6foot 2 to 6 foot 4 in height. The pictures are taken from iphone 7 plus. There is a USD1000 monetary reward for identifying them. I am in the United States. Please text +1 713 367-3942 and/or email [hzhou002@hotmail.com](mailto:hzhou002@hotmail.com). No games. Excellent Web Skills needed.  \n",
       "263                                                                                                                                                                                                                                                                                                                                                                                                                                                                                                                                                                                                                                                                                                                                                                                                                                                                                                                                                                                                                                                                                                                                                                                                                                                                                                                                                                                                                                                                                                                                                                                                                                                                                                                                                                                                                                                                                                                                                                                                                                                                                                                                     Sebastian compares different approaches to solving the same problem in terms of performance and optimization in Python, I learned a lot from this, so I thought of sharing, have fun &lt;3\\n\\n[Link](https://www.youtube.com/watch?v=YjHsOrOOSuI&amp;feature=youtu.be&amp;ab_channel=EuroPythonConference)  \n",
       "265                                                                                                                                                                                                                                                                                                                                                                                                                                                                                                                                                                                                                                                                                                                                                                                                                                                                                                                                                                                                                                                                                                                                                                                                                                                                                                                                                                                                                                                                                                                                                                                                                                    Hi guys,\\n\\nI learned some python during the last months and now i think I could use it to automate a really boring task at work. It would not only save me a lot of time, but my project leader would love me for such a script.\\n\\n1. I have a list in Excel that has a company name in each cell of one column. \\n2. I need to send one mail per company with the respective name of each company to a mail-address, that would give me an answer via mail with another excel as attachment, that contains the financial infos of the company.\\n3. Next step would be extracting one info (revenue) of each company-excel and put it into the original excel (into another column next to the column with the name of the original excel)\\n\\nAppreciate all support on this project.Thanks in advance :)  \n",
       "271                                                                                                                                                                                                                                                                                                                                                                                                                                                                                                                                                                                                                                                                                                                                                                                                                                                                                                                                                                                                                                                                                                                                                                                                                                                                                                                                                                                                                                                                                                                                                                                                                                                                                                                                                                                                                                                                                                                                                                                  What is the best package/kit to use for text sentiment analysis? I would mostly be using it for articles/article titles/ comments on different platforms using API's. Also have to figure out how to get a continual feed of information instead of downloading a single segment of text I want to analyze - even though I know certain API's have restrictions on how many calls can be made daily/monthly. Any insight would be helpful. Thanks in advance!  \n",
       "274                                                                                                                                                                                                                                                                                                                                                                                                                                                                                                                                                                                                                                                                                                                                                                                                                                                                                                                                                                                                                                                                                                                                                                                                                                                                                                                                                                                                                                                                                                                                                                                                                                                                                                                                                                                                                                                                                                                                                                                                                             Essentially, if you need a bunch of stock data but don't want to download the csv files manually off of Yahoo Finance, then you can just type in your tickers into this application and it will return a zipped folder of your chosen stocks.\\n\\n[https://stock-scraper-multi.herokuapp.com/](https://stock-scraper-multi.herokuapp.com/)\\n\\nI'm quite new to web dev, so any comments/suggestions would be great!  \n",
       "313                                                                                                                                                                                                                                                                                                                                                                                                                                                                                                                                                                                                                                                                                                                                                                                                                                                                                                                                                                                                                                                                                                                                                                                                                                                                                                                                                                                                                                                                                                                                                                                                                                                                                 This post is an extension to my last post :[The \"Balls in a row\" challenge.](https://paddy3118.blogspot.com/2021/01/the-balls-in-row-challenge.html) \\n\\njacobb11 on [reddit](https://www.reddit.com/r/coding/comments/l2664c/the_balls_in_a_row_challenge/gk4co08?utm_source=share&amp;utm_medium=web2x&amp;context=3) mentioned:\\n\\n&gt;I believe a significantly simpler solution creates a  stack (array) of color/number pairs by scanning the initial array,  pushing color/number pairs on the stack, and removing groups only on the  top of the stack. Constant time deletion with only a single extra  object. 3  \\n \\n\\nThats intriguing ... [I'll write some code](https://paddy3118.blogspot.com/2021/01/balls-in-row-someone-on-reddit.html). ..  \n",
       "320  I am trying to create a function that determines if a matrix is a magic square. I have been messing around with it for a while but cannot seem to figure it out. The first three rows should be valid, and the last 4 should be invalid, but they all come back invalid. I am not that fluent in python so I was trying to keep it basic. Anyone have any thoughts?\\n\\n&amp;#x200B;\\n\\nThe grid for reference is\\n\\n4 3 8 9 5 1 2 7 6\\n\\n8 3 4 1 5 9 6 7 2\\n\\n6 1 8 7 5 3 2 9 4\\n\\n6 9 8 7 5 3 2 1 4\\n\\n6 1 8 7 5 3 2 1 4\\n\\n6 1 3 2 9 4 8 7 5\\n\\n5 5 5 5 5 5 5 5 5\\n\\n&amp;#x200B;\\n\\n    def display(grid):\\n        for row in range(len(grid)):\\n            for column in range(len(grid[row])):\\n                print(grid[row][column], end = \" \")\\n        print()\\n    \\n    def find(i, grid):\\n        for row in grid:\\n            for value in row:\\n                if i == value:\\n                    return True\\n        return False\\n    \\n    \\n    def sumColumn(columnIndex, grid):\\n        for column in range(len(grid[0])):\\n            total = 0\\n            for row in range(len(grid)):\\n                total += grid[row][columnIndex]\\n            return total\\n        \\n    \\n    \\n    def isValid(grid):\\n        for i in range(1,10):\\n            if not find(i, grid):\\n                return False\\n    \\n        summation = 15\\n    \\n        for row in grid:\\n            if sum(row) != summation:\\n                return False\\n    \\n        for columnIndex in [0, 1, 2]:\\n            if [0] !=summation:\\n            \\n                return False\\n            \\n            \\n        if grid[0][0] + grid[1][1] + grid[2][2] != summation:\\n            return False\\n    \\n        if grid[0][2] + grid [1][1] + grid[2][0] !=summation:\\n            return False\\n    \\n        return True\\n    \\n    \\n    def main():\\n        f = open(\"input.txt\")\\n        for line in f:\\n            print(line)\\n            current_line = list(map(int,line.split()))\\n            grid = [0]*3\\n            grid[0] = current_line[0:3]\\n            grid[1] = current_line[3:6]\\n            grid[2] = current_line[6:9]\\n            if isValid(grid):\\n                print(\"valid\")\\n            else:\\n                print(\"invalid\")\\n        f.close\\n    \\n        \\n             \\n             \\n        \\n    \\n        \\n    \\n    main()\\n    \\n\\n&amp;#x200B;  \n",
       "325                                                                                                                                                                                                                                                                                                                                                                                                                                                                                                                                                                                                                                                                                                                                                                                                                                                                                                                                                                                                                                                                                                                                                                                                                                                                                                                                                                                                                                                                                                                                                                                                                                                                                                                                                                                                                                                                                                                                                                                                                                                                                                                                                                                                                                                     Just a short tutorial (4 minutes long) showing how you can use 7 lines of code to combine multiple CSV files using pandas.\\n\\n[https://youtu.be/dcQs8k9WGbY](https://youtu.be/dcQs8k9WGbY)  \n",
       "329                                                                                                                                                                                                                                                                                                                                                                                                                                                                                                                                                                                                                                                                                                                                                                                                                                                                                                                                   For today's maths class I had to do 2 pie charts and making one would take a lot of time so I decided to make a script to make them for me witch took around 15 minutes. \\n\\n    import matplotlib.pyplot as plt\\n    \\n    def main():\\n    \\ttot_num = input('total number : ')\\n    \\tnr1 = input('nr1 : ')\\n    \\tnr2 = input('nr2 : ')\\n    \\tnr3 = input('nr3 : ')\\n    \\tnr4 = input('nr4 : ')\\n    \\tnr5 = input('nr5 : ')\\n    \\n    \\tfor x in range(5):\\n    \\t\\tgrade3 = int(nr1) / int(tot_num) * 360\\n    \\t\\tgrade4 = int(nr2) / int(tot_num) * 360\\n    \\t\\tgrade5 = int(nr3) / int(tot_num) * 360\\n    \\t\\tgrade6 = int(nr4) / int(tot_num) * 360\\n    \\t\\tgrade7 = int(nr5) / int(tot_num) * 360\\n    \\n    \\tgrade3, grade4, grade5, grade6, grade7 = int(grade3), int(grade4), int(grade5), int(grade6), int(grade7)\\n    \\n    \\tprint(f'\\n{grade3}\\n{grade4}\\n{grade5}\\n{grade6}\\n{grade7}')\\n    \\n    \\n    \\t# Data to plot\\n    \\tlabels = 'grade - 3', 'grade - 4', 'grade - 5', 'grade - 6', 'grade - 7'\\n    \\tsizes = [grade3, grade4, grade5, grade6, grade7]\\n    \\tcolors = ['gold', 'yellowgreen', 'lightcoral', 'lightskyblue', 'red']\\n    \\texplode = (0.1, 0, 0, 0)  # explode 1st slice\\n    \\n    \\t# Plot\\n    \\tplt.pie(sizes, labels=labels, colors=colors,\\n    \\tautopct='%1.1f%%', shadow=True, startangle=140)\\n    \\n    \\tplt.axis('equal')\\n    \\tplt.show()\\n    \\n    if __name__ == '__main__':\\n    \\tmain()\\n\\nPie chart: https://imgur.com/a/Ivj5KGj  \n",
       "360                                                                                                                                                                                                                                                                                                                                                                                                                                                                                                                                                                                                                                                                                                                                                                                                                                                                                                                                                                                                                                                                                                                                                                                                                                                                                                                                                                                                                                                                                                                                                                                                                                                                                                                    Hi! Despite existing Typer and Clicker, I decided to create my own library to parse command-line arguments. The reason was Typer and Clicker are too heavy to me, but argparse is too low level. But because I created it with my own ideas behind it - it's slightly different from Typer. I use the Optional type to separate positional and optional arguments (because argparse allows using default values for positional arguments). The project is in the early stage, and some options have not been supported yet (epilog, for example). It would be great to know use cases I have missed or feature requests. \\n\\nGithub: [https://github.com/khud/typedparse](https://github.com/khud/typedparse)\\n\\nThank you!  "
      ]
     },
     "execution_count": 105,
     "metadata": {},
     "output_type": "execute_result"
    }
   ],
   "source": [
    "pd.set_option('display.max_colwidth', None)\n",
    "\n",
    "df_dominant_topic.loc[df_dominant_topic['Dominant_Topic'] == 2, ['Dominant_Topic', 'Submission']].head(20)"
   ]
  },
  {
   "cell_type": "code",
   "execution_count": 106,
   "metadata": {},
   "outputs": [
    {
     "data": {
      "text/html": [
       "<div>\n",
       "<style scoped>\n",
       "    .dataframe tbody tr th:only-of-type {\n",
       "        vertical-align: middle;\n",
       "    }\n",
       "\n",
       "    .dataframe tbody tr th {\n",
       "        vertical-align: top;\n",
       "    }\n",
       "\n",
       "    .dataframe thead th {\n",
       "        text-align: right;\n",
       "    }\n",
       "</style>\n",
       "<table border=\"1\" class=\"dataframe\">\n",
       "  <thead>\n",
       "    <tr style=\"text-align: right;\">\n",
       "      <th></th>\n",
       "      <th>Dominant_Topic</th>\n",
       "      <th>Submission</th>\n",
       "    </tr>\n",
       "  </thead>\n",
       "  <tbody>\n",
       "    <tr>\n",
       "      <th>0</th>\n",
       "      <td>5.0</td>\n",
       "      <td>Hi, has anyone created python code that tests if a web page is different than what was previously displayed?\\n\\nGetting a vaccine appointment is basically the same as trying to get tickets via Ticketmaster. You need to just keep refreshing the page until you are lucky enough to hit it right. Has anyone automated the process?</td>\n",
       "    </tr>\n",
       "    <tr>\n",
       "      <th>2</th>\n",
       "      <td>5.0</td>\n",
       "      <td>I agree with some of the sentiments shared in this [thread](https://www.reddit.com/r/Python/comments/lbrr19/do_we_like_medium_links_here/), Medium is turning into YouTube at this point, you have to know all the right _profiles_. This is not a complete list of authors, just the ones I have had come across and found their posts to be both technical and informative. I'm opening this thread so if you know of an Python author whose upvotes/awards are well-deserved, please do post them in the comments. Thanks.\\n\\n1. Guido Van Rossum `Core Python Team`: [https://medium.com/@gvanrossum\\_83706](https://medium.com/@gvanrossum_83706)\\n2. Anthony Shaw `Core Python Team`:  [https://medium.com/@anthonypjshaw](https://medium.com/@anthonypjshaw)\\n3. Joannah Nanjekye `Core Python Team`: [https://medium.com/@Captain_Joannah](https://medium.com/@Captain_Joannah)\\n4. Instagram Engineering: [https://instagram-engineering.com/](https://instagram-engineering.com/)\\n5. Yeray Diaz: [https://medium.com/@yeraydiazdiaz](https://medium.com/@yeraydiazdiaz)\\n6. Nick Humrich: [https://medium.com/@nhumrich](https://medium.com/@nhumrich)\\n7. Haki Benita: [https://hakibenita.medium.com/](https://hakibenita.medium.com/)\\n8. Khuyen Tran: [https://khuyentran1476.medium.com/](https://khuyentran1476.medium.com/)\\n9. Lev Maximov: [https://medium.com/@levmaximov](https://medium.com/@levmaximov)\\n\\nDisclaimer: I'm not a Medium author myself, and I'm not affiliated with any of them that I listed, but I wish I was! Many of them are not frequent posters.</td>\n",
       "    </tr>\n",
       "    <tr>\n",
       "      <th>3</th>\n",
       "      <td>5.0</td>\n",
       "      <td>When do you guys know when to open source a project or when not to? I've been working on a project for damn near 2 years on and off, it's mainly for practicing my skills at this point but it can be rather useful. How would I be able to get others to assist me without just forking it and fixing the issues for use for themselves?</td>\n",
       "    </tr>\n",
       "    <tr>\n",
       "      <th>4</th>\n",
       "      <td>5.0</td>\n",
       "      <td>I made a python module which download youtube videos without using any thrid party library [here](https://github.com/ahmRitik/youtube-rev). \\nBut i did use requests for requesting to url . This script can return video info , video url and even download them . But i couldn't decode the signature url . I tried searching for js func in html5 player file , but i couldn't find .Script work fine for every video except those which are restricted for downloading by creator . If anyone know how to decrypt those urls do let me know .</td>\n",
       "    </tr>\n",
       "    <tr>\n",
       "      <th>12</th>\n",
       "      <td>5.0</td>\n",
       "      <td>Zen of Python - by  Tim Peters\\n\\nBeautiful is better than ugly. Explicit is better than implicit. Simple is better than complex. Complex is better than complicated. Flat is better than nested. Sparse is better than dense. Readability counts. Special cases aren't special enough to break the rules. Although practicality beats purity. Errors should never pass silently. Unless explicitly silenced. In the face of ambiguity, refuse the temptation to guess. There should be one-- and preferably only one --obvious way to do it. Although that way may not be obvious at first unless you're Dutch. Now is better than never. Although never is often better than *right* now. If the implementation is hard to explain, it's a bad idea. If the implementation is easy to explain, it may be a good idea. Namespaces are one honking great idea -- let's do more of those!\\n\\nSo if you would like to add a line to this or remove a line from this, what would it be? This would be interesting!\\n\\nThank you..</td>\n",
       "    </tr>\n",
       "    <tr>\n",
       "      <th>13</th>\n",
       "      <td>5.0</td>\n",
       "      <td>It was written in python but has been converted to exe so any windows users can use this application!\\n\\nIf you are interested in downloading it\\n\\nyou can find it at my github.\\n\\n[www.github.com/best-code/pornblocker](https://www.github.com/best-code/pornblocker)\\n\\n\\nhope this helps even just one of you guys out!</td>\n",
       "    </tr>\n",
       "    <tr>\n",
       "      <th>19</th>\n",
       "      <td>5.0</td>\n",
       "      <td>I started learning python in novmeber 2020,\\nI've been checking posts here and there and teaching myself.\\nI decided to check codewars.com after several ppl said it could help. \\n\\nI have tried to learn java in auguest 19 and stopped by november 19 after i made 2 calcs with java rx. Was pretty awesome. But i lost the enthusiasm so i stopped.  \\n\\nBack to codewars. Pick ur language. \\n\\nPython yaaa.  Cant figure wth wrong with the code.  For like 10 mins.  Grrrr😅😅😅\\n\\nGo java goooo . Finished in a min.  😂😂😂\\n\\nAnd iam proudly the newest member of codewars. Lol</td>\n",
       "    </tr>\n",
       "    <tr>\n",
       "      <th>20</th>\n",
       "      <td>5.0</td>\n",
       "      <td>I am in grade 12. I was supposed to make a \"Library Management System\" project with the help of Python language as a part of my curriculum. What everyone did was copying it all from internet, as well our teacher advised to do so. But I made the whole project on my own and it works better than anyone else in the whole class. Plus I know python better than my teacher.</td>\n",
       "    </tr>\n",
       "    <tr>\n",
       "      <th>22</th>\n",
       "      <td>5.0</td>\n",
       "      <td>I tried to make a fill function in python that was non recursive to be as small as possible without using any external libraries or list comprehension (as if i wanted to i could make it just 1 line but i feel as though thats a cheap cop-out)\\n\\nI prioritized making the line count less and character count less (less long of lines) but in the end i was still left with a decently long line. Im satisfied with it though. If you have anything you feel you could add to improve it let me know. \\n\\nI put it inside of a working function, and i used a small 50x50 image since it takes a while and does a fill job worse than ms paint, but it does get the job done. Originally i made a version with tolerance, but ended up cutting it out as im not really going for practicality here lmao. \\n\\nAnyways, *here he is*\\n\\n    # (These libraries are purely for opening the image)\\n    from PIL import Image\\n    import numpy as np\\n    \\n    \\n    # USAGE:\\n    # it takes an img as a list (i) and a starting seed as a list (s)\\n    # and appends to the starting seed all of the to-be-filled coordinates\\n    \\n    def f(i,s):\\n      for a,b in s:\\n        for x,y in (a,b+1),(a+1,b),(a,b-1),(a-1,b):\\n          if 0&amp;lt;=x&amp;lt;len(i) and 0&amp;lt;=y&amp;lt;len(i[0]) and (x,y) not in s and str(i[x][y])==str(i[s[0][0]][s[0][1]]):\\n            s.append((x,y))\\n    \\n    \\n    pic = np.asarray(Image.open('test.bmp'))\\n    data = np.array(pic)\\n    \\n    fill_color = [0, 0, 0]\\n    fill_start = [(0, 0)]\\n    f(data, fill_start)\\n    \\n    for x, y in fill_start:\\n      data[x][y] = fill_color\\n    \\n    filled = Image.fromarray(data, 'RGB')\\n    filled.save('filled.png')</td>\n",
       "    </tr>\n",
       "    <tr>\n",
       "      <th>28</th>\n",
       "      <td>5.0</td>\n",
       "      <td>Hello fellow redditors, thanks for checking this post.\\n\\n  \\n[WhatPulse is a small application that measures your keyboard/mouse usage, down- &amp;amp; uploads and your uptime.](https://whatpulse.org/) What I care about is the keyboard and mouse usage. I just like knowing how many clicks it took for that peripheral to fail. The issue I had with Whatpulse tho is that whenever my pc shuts down unexpectedly, the data gets corrupted and I start from 0 again. That happened a couple of times and it annoyed me so much that I decided to make my own program that will achieve the same thing and will save the data in a .txt file so that I can modify it easily if I wanted.\\n\\n&amp;amp;#x200B;\\n\\nAfter 5-10 hours of work on it, [this](https://pastebin.com/VZQntspT) is what I ended up with. I think I spent more time than I should but I would blame that on the fact that I had to learn many new things like multi-threading. I tried my best to keep the code clean but I think it still looks messy. I also used the .pyw file extension instead of .py because I don't want the terminal to open. I have around 20 hours of learning python so I don't think what I ended up with here is bad but feedback is very welcome. Feel free to tell me what I did wrong or if I could improve something. Note: I didn't stick to PEP guidelines.\\n\\n&amp;amp;#x200B;\\n\\nKnown issues:\\n\\n\\- I have a hotkey for terminating the program which is \"left ctrl + left shift + right ctrl + right shift\". The issue is that if I pressed \"left ctrl + left shift + alt + right ctrl + right shift\" it still works.\\n\\n\\- if there is no \"Data.txt\" file or if the \"Data.txt\" file is empty, it will error. (keep that in mind if you want to try it out for yourself, it also needs to be in a specific format so [here](https://pastebin.com/u68zbEDg) is an example.)\\n\\n\\- Multiple instances of the program can be running at the same time.\\n\\n&amp;amp;#x200B;\\n\\nFuture improvements:\\n\\n\\- Planning to add a gui. (planning to use pysimplegui or tkinter for that)\\n\\n\\- Add statistics like the frequency of each key press</td>\n",
       "    </tr>\n",
       "    <tr>\n",
       "      <th>35</th>\n",
       "      <td>5.0</td>\n",
       "      <td>Hi! I'm developing a small python script / application that simply listens to all HTTP POST requests on some port, and will then take some appropriate action (forward it to another server, execute some script locally, etc). The important thing is that it will NOT provide any response to the sender of any such request, no webpages or files will be hosted, it will not use any kind of authorization, etc. It just listens to an http endpoint, looks at the string name of that endpoint (e.g. e[xample.com/this\\_is\\_my\\_endpoint\\_name](https://example.com/this_is_my_endpoint_name)), and will execute some predefined action. I am very well aware that using libraries like Flask and aiohttp out of the box to host a website in production is **very bad practice,** but given the extreme simplicity and receiving-only nature of my \"application\" aiohttp seems perfect for my use-case (it doesn't need to be very efficient but the asynchronous handling is of course essential).\\n\\nI've been searching far and wide to find out exactly how much of a security risk I'm taking by opening such a server up to the public, but I can't find anything beyond potential authorization issues, denial of service attacks, serving files that should be protected etc. However, it seems to me that the simpler the functionality, the harder it would be to hack? Using e.g. nginx if I'm not even planning to send any response seems overkill and adds unwanted complexity. It's absolutely fine if my server would get overloaded and crash; I can always start it back up again. The only thing I care about is that **the python code of this server should never be exposed**, since it contains a few secret API keys and such. I'm not at all an expert on web security, but I find it hard to imagine how any of my information could be exposed if I don't even send any kind of response back. I also don't plan to receive any files through this server (it's just gonna parse a bunch of strings), so there shouldn't be any risk of downloading malicious data of some kind.\\n\\n&amp;amp;#x200B;\\n\\nIf any of you have a better picture of what kinds of risks are involved with a simple \"server\" that is only a \"listener\" in practice, any insights would be very much appreciated!</td>\n",
       "    </tr>\n",
       "    <tr>\n",
       "      <th>36</th>\n",
       "      <td>5.0</td>\n",
       "      <td>&amp;amp;#x200B;\\n\\n&amp;amp;#x200B;\\n\\n&amp;amp;#x200B;\\n\\nhttps://preview.redd.it/phx2iizs24f61.png?width=1920&amp;amp;format=png&amp;amp;auto=webp&amp;amp;s=cdab0ce367b59500bc83fa5e3b89c1a1ad565869\\n\\nhttps://preview.redd.it/0hh0hhzs24f61.png?width=1920&amp;amp;format=png&amp;amp;auto=webp&amp;amp;s=5a20c3c96c3f8ad81c32677ed2e3ac0e9c683ed2\\n\\nhttps://preview.redd.it/erv65izs24f61.png?width=1920&amp;amp;format=png&amp;amp;auto=webp&amp;amp;s=fdd3df026ae0eef656f3488554900e219384819c\\n\\nhttps://preview.redd.it/df0a8jzs24f61.png?width=1920&amp;amp;format=png&amp;amp;auto=webp&amp;amp;s=9bdf744a725dae8a5346057a004bf276c306f7ba\\n\\n[JigsawGenerator](https://github.com/Bollos00/JigsawGenerator) is a simple rectangular jigsaw generator written in python. \\n\\nAll the pieces of the jigsaw have the same width and height, but the connection between one piece with its neighbor is not constant, it depends from random numbers generated with the `random` module; it avoids all the connections to have the same shape.\\n\\nWith this software it is possible to load and save images on several formats and to generate the output on the svg format (like on the third image).\\n\\nCriticism about the code, suggestions and ideas for the software, anything is very appreciated.</td>\n",
       "    </tr>\n",
       "    <tr>\n",
       "      <th>40</th>\n",
       "      <td>5.0</td>\n",
       "      <td>IM TRYING TO POST THIS ON LEARNPYTHON BUT... I CANT. IS DELETED ALL THE TIME?? Why??\\n\\nHi all.\\n\\nI am making a small text editor that uploads the files I make to gooDrive.\\n\\nFor the gdrive thing I followed this tutorial.\\n\\n[https://medium.com/@annissouames99/how-to-upload-files-automatically-to-drive-with-python-ee19bb13dda](https://medium.com/@annissouames99/how-to-upload-files-automatically-to-drive-with-python-ee19bb13dda)\\n\\nAnd everything is fine, except that I have to enter my credentials and \"allow everything\" every time I start my program ... how can I avoid this?\\n\\nThanks!</td>\n",
       "    </tr>\n",
       "    <tr>\n",
       "      <th>44</th>\n",
       "      <td>5.0</td>\n",
       "      <td>Hey guys! I'm a beginner in python. I was doing some testing, and I needed a way to auto reload a module as I was changing it (so I don't need to re-run the entire code every time). I couldn't find much on google, but I didn't search too much because I saw it as a challenge. [Here](https://github.com/FunIsDangerous/ModuleAutoReload) is the end result. It works perfectly for my purpose, but I have only tested it in Windows 10 running Python 3.9, on small modules (.py modules and dir packages). Just wanted to share my first python project! Any suggestions and critisism is welcome!</td>\n",
       "    </tr>\n",
       "    <tr>\n",
       "      <th>50</th>\n",
       "      <td>5.0</td>\n",
       "      <td>Hello fellow Pythonistas,\\n\\nI recently recognized the need to have a set of standardized linters (as well as their accompanying configurations) included uniformly across all of my projects. It started with a small file that I'd copy-paste around, but as the number of times I did this grew, I realized that there was an opportunity to write a package around this that would expose a nice integration &amp;amp; configuration interface.\\n\\nFor lack of creativity I've decided to call it \"Multilint\" (although there is another project by that name but it has been archived). Multilint allows integrating a linter (or any other CQ (code quality)) tool by subclassing `ToolRunner` and implementing `ToolRunner.run()`. There are also some other conveniences available (such as making a logger or having the relevant section of `pyproject.toml` available to the subclass) to make the integration process a little bit easier.\\n\\nWhile I definitely find a lot of value in this and will be using it in all of my personal (and work whenever possible) projects going forward, I wanted to put this project out into the community to get some feedback on it: is it something that could potentially be useful to a larger audience than myself (and maybe a few of my colleagues)? Or is it a total waste of time trying to generalize this concept?\\n\\nhttps://github.com/gkze/multilint\\n\\nWhat do you think? Would love to hear your impressions, thoughts, opinions on this.\\n\\nCheers!</td>\n",
       "    </tr>\n",
       "    <tr>\n",
       "      <th>55</th>\n",
       "      <td>5.0</td>\n",
       "      <td>Hi, I wrote a little python script to bulk download the photos/images from your Facebook Messenger account for a specific chat between your account and a friend's or a messenger group :\\n\\n[https://github.com/leoguillaume/fbm-image-scraper](https://github.com/leoguillaume/fbm-image-scraper)  \\nEvery informations are in the readme. Enjoy</td>\n",
       "    </tr>\n",
       "    <tr>\n",
       "      <th>68</th>\n",
       "      <td>5.0</td>\n",
       "      <td>Hey Squad! With all the chaos in the stock market lately, I thought now would be a good time to share this stock market data downloader I put together with some help from a [repository](https://github.com/bradlucas/get-yahoo-quotes-python) from a few years ago. For someone looking to get access to a ton of data quickly, this script can come in handy and hopefully save a bunch of time which otherwise would be wasted trying to get the yahoo-finance pip package working (which I've always had a hard time with).  I'm still using yahoo finance to download historical market data directly for any number of tickers you choose. This is my real attempt at making a program with a more hands-off style of interaction via command line arguments. Any feedback or suggestions for improvement would be appreciated! \\n\\nGit Repo: [https://github.com/melo-gonzo/StockDataDownload](https://github.com/melo-gonzo/StockDataDownload)</td>\n",
       "    </tr>\n",
       "    <tr>\n",
       "      <th>82</th>\n",
       "      <td>5.0</td>\n",
       "      <td>Hello. Im just curious. If someone installs third party library, how do we know that it doesn't contain malicious code. I know that the code is open source. But, who reviews it?</td>\n",
       "    </tr>\n",
       "    <tr>\n",
       "      <th>84</th>\n",
       "      <td>5.0</td>\n",
       "      <td>Hey! Good people of reddit. I would like to showcase an intermediate level project I made. So here's a little background, many traders need to know when a certain stock Crosses a threshold for that there are many services and the one I used included 5-6 steps to set one trigger, so I thought that it would be nice if I could have my own bot deployed on a messaging app. Here I have built a telegram bot that allows users to set triggers for stock of their choice.\\nUsers can set triggers for multiple stock and at multiple price points. \\nI have used the following :\\n1. yfinance, alpha vantage and telegram api\\n2. Mongodb\\n\\nGithub link: https://github.com/pratik-choudhari/StockNotify\\n\\nI have added detailed readme and have kept multiple topics open for contributions. Do check it out😊\\nI would like hear from you in the comments, good or bad, anything!</td>\n",
       "    </tr>\n",
       "    <tr>\n",
       "      <th>90</th>\n",
       "      <td>5.0</td>\n",
       "      <td>Some algorithms I wrote in python, back in the days I was planning on maintaining this project, couldn't manage to keep with that.\\n\\nPosting here if it would help someone, or if you want to PR me for new algorithms.\\n\\n[https://github.com/emil45/computer-science-algorithms](https://github.com/emil45/computer-science-algorithms)</td>\n",
       "    </tr>\n",
       "  </tbody>\n",
       "</table>\n",
       "</div>"
      ],
      "text/plain": [
       "    Dominant_Topic  \\\n",
       "0              5.0   \n",
       "2              5.0   \n",
       "3              5.0   \n",
       "4              5.0   \n",
       "12             5.0   \n",
       "13             5.0   \n",
       "19             5.0   \n",
       "20             5.0   \n",
       "22             5.0   \n",
       "28             5.0   \n",
       "35             5.0   \n",
       "36             5.0   \n",
       "40             5.0   \n",
       "44             5.0   \n",
       "50             5.0   \n",
       "55             5.0   \n",
       "68             5.0   \n",
       "82             5.0   \n",
       "84             5.0   \n",
       "90             5.0   \n",
       "\n",
       "                                                                                                                                                                                                                                                                                                                                                                                                                                                                                                                                                                                                                                                                                                                                                                                                                                                                                                                                                                                                                                                                                                                                                                                                                                                                                                                                                                                                                                                                                                                                                                                                                                                                                                                                                                                                                                                                                                                                                                                                                                                                                                                                                                                                                                                                                                                 Submission  \n",
       "0                                                                                                                                                                                                                                                                                                                                                                                                                                                                                                                                                                                                                                                                                                                                                                                                                                                                                                                                                                                                                                                                                                                                                                                                                                                                                                                                                                                                                                                                                                                                                                                                                                                                                                                                                                                                                                                                                                                                                                                    Hi, has anyone created python code that tests if a web page is different than what was previously displayed?\\n\\nGetting a vaccine appointment is basically the same as trying to get tickets via Ticketmaster. You need to just keep refreshing the page until you are lucky enough to hit it right. Has anyone automated the process?  \n",
       "2                                                                                                                                                                                                                                                                                                                                                                                                                                                                                                                                                                                                                                                                                                                            I agree with some of the sentiments shared in this [thread](https://www.reddit.com/r/Python/comments/lbrr19/do_we_like_medium_links_here/), Medium is turning into YouTube at this point, you have to know all the right _profiles_. This is not a complete list of authors, just the ones I have had come across and found their posts to be both technical and informative. I'm opening this thread so if you know of an Python author whose upvotes/awards are well-deserved, please do post them in the comments. Thanks.\\n\\n1. Guido Van Rossum `Core Python Team`: [https://medium.com/@gvanrossum\\_83706](https://medium.com/@gvanrossum_83706)\\n2. Anthony Shaw `Core Python Team`:  [https://medium.com/@anthonypjshaw](https://medium.com/@anthonypjshaw)\\n3. Joannah Nanjekye `Core Python Team`: [https://medium.com/@Captain_Joannah](https://medium.com/@Captain_Joannah)\\n4. Instagram Engineering: [https://instagram-engineering.com/](https://instagram-engineering.com/)\\n5. Yeray Diaz: [https://medium.com/@yeraydiazdiaz](https://medium.com/@yeraydiazdiaz)\\n6. Nick Humrich: [https://medium.com/@nhumrich](https://medium.com/@nhumrich)\\n7. Haki Benita: [https://hakibenita.medium.com/](https://hakibenita.medium.com/)\\n8. Khuyen Tran: [https://khuyentran1476.medium.com/](https://khuyentran1476.medium.com/)\\n9. Lev Maximov: [https://medium.com/@levmaximov](https://medium.com/@levmaximov)\\n\\nDisclaimer: I'm not a Medium author myself, and I'm not affiliated with any of them that I listed, but I wish I was! Many of them are not frequent posters.  \n",
       "3                                                                                                                                                                                                                                                                                                                                                                                                                                                                                                                                                                                                                                                                                                                                                                                                                                                                                                                                                                                                                                                                                                                                                                                                                                                                                                                                                                                                                                                                                                                                                                                                                                                                                                                                                                                                                                                                                                                                                                                 When do you guys know when to open source a project or when not to? I've been working on a project for damn near 2 years on and off, it's mainly for practicing my skills at this point but it can be rather useful. How would I be able to get others to assist me without just forking it and fixing the issues for use for themselves?  \n",
       "4                                                                                                                                                                                                                                                                                                                                                                                                                                                                                                                                                                                                                                                                                                                                                                                                                                                                                                                                                                                                                                                                                                                                                                                                                                                                                                                                                                                                                                                                                                                                                                                                                                                                                                                                                                         I made a python module which download youtube videos without using any thrid party library [here](https://github.com/ahmRitik/youtube-rev). \\nBut i did use requests for requesting to url . This script can return video info , video url and even download them . But i couldn't decode the signature url . I tried searching for js func in html5 player file , but i couldn't find .Script work fine for every video except those which are restricted for downloading by creator . If anyone know how to decrypt those urls do let me know .  \n",
       "12                                                                                                                                                                                                                                                                                                                                                                                                                                                                                                                                                                                                                                                                                                                                                                                                                                                                                                                                                                                                                                                                                                                                                                                                                                                                                           Zen of Python - by  Tim Peters\\n\\nBeautiful is better than ugly. Explicit is better than implicit. Simple is better than complex. Complex is better than complicated. Flat is better than nested. Sparse is better than dense. Readability counts. Special cases aren't special enough to break the rules. Although practicality beats purity. Errors should never pass silently. Unless explicitly silenced. In the face of ambiguity, refuse the temptation to guess. There should be one-- and preferably only one --obvious way to do it. Although that way may not be obvious at first unless you're Dutch. Now is better than never. Although never is often better than *right* now. If the implementation is hard to explain, it's a bad idea. If the implementation is easy to explain, it may be a good idea. Namespaces are one honking great idea -- let's do more of those!\\n\\nSo if you would like to add a line to this or remove a line from this, what would it be? This would be interesting!\\n\\nThank you..  \n",
       "13                                                                                                                                                                                                                                                                                                                                                                                                                                                                                                                                                                                                                                                                                                                                                                                                                                                                                                                                                                                                                                                                                                                                                                                                                                                                                                                                                                                                                                                                                                                                                                                                                                                                                                                                                                                                                                                                                                                                                                                            It was written in python but has been converted to exe so any windows users can use this application!\\n\\nIf you are interested in downloading it\\n\\nyou can find it at my github.\\n\\n[www.github.com/best-code/pornblocker](https://www.github.com/best-code/pornblocker)\\n\\n\\nhope this helps even just one of you guys out!  \n",
       "19                                                                                                                                                                                                                                                                                                                                                                                                                                                                                                                                                                                                                                                                                                                                                                                                                                                                                                                                                                                                                                                                                                                                                                                                                                                                                                                                                                                                                                                                                                                                                                                                                                                                                                                                    I started learning python in novmeber 2020,\\nI've been checking posts here and there and teaching myself.\\nI decided to check codewars.com after several ppl said it could help. \\n\\nI have tried to learn java in auguest 19 and stopped by november 19 after i made 2 calcs with java rx. Was pretty awesome. But i lost the enthusiasm so i stopped.  \\n\\nBack to codewars. Pick ur language. \\n\\nPython yaaa.  Cant figure wth wrong with the code.  For like 10 mins.  Grrrr😅😅😅\\n\\nGo java goooo . Finished in a min.  😂😂😂\\n\\nAnd iam proudly the newest member of codewars. Lol  \n",
       "20                                                                                                                                                                                                                                                                                                                                                                                                                                                                                                                                                                                                                                                                                                                                                                                                                                                                                                                                                                                                                                                                                                                                                                                                                                                                                                                                                                                                                                                                                                                                                                                                                                                                                                                                                                                                                                                                                                                                         I am in grade 12. I was supposed to make a \"Library Management System\" project with the help of Python language as a part of my curriculum. What everyone did was copying it all from internet, as well our teacher advised to do so. But I made the whole project on my own and it works better than anyone else in the whole class. Plus I know python better than my teacher.  \n",
       "22                                                                                                                                                                                                                                                                                                                                                                                                                                                                                                                                                                                                    I tried to make a fill function in python that was non recursive to be as small as possible without using any external libraries or list comprehension (as if i wanted to i could make it just 1 line but i feel as though thats a cheap cop-out)\\n\\nI prioritized making the line count less and character count less (less long of lines) but in the end i was still left with a decently long line. Im satisfied with it though. If you have anything you feel you could add to improve it let me know. \\n\\nI put it inside of a working function, and i used a small 50x50 image since it takes a while and does a fill job worse than ms paint, but it does get the job done. Originally i made a version with tolerance, but ended up cutting it out as im not really going for practicality here lmao. \\n\\nAnyways, *here he is*\\n\\n    # (These libraries are purely for opening the image)\\n    from PIL import Image\\n    import numpy as np\\n    \\n    \\n    # USAGE:\\n    # it takes an img as a list (i) and a starting seed as a list (s)\\n    # and appends to the starting seed all of the to-be-filled coordinates\\n    \\n    def f(i,s):\\n      for a,b in s:\\n        for x,y in (a,b+1),(a+1,b),(a,b-1),(a-1,b):\\n          if 0&lt;=x&lt;len(i) and 0&lt;=y&lt;len(i[0]) and (x,y) not in s and str(i[x][y])==str(i[s[0][0]][s[0][1]]):\\n            s.append((x,y))\\n    \\n    \\n    pic = np.asarray(Image.open('test.bmp'))\\n    data = np.array(pic)\\n    \\n    fill_color = [0, 0, 0]\\n    fill_start = [(0, 0)]\\n    f(data, fill_start)\\n    \\n    for x, y in fill_start:\\n      data[x][y] = fill_color\\n    \\n    filled = Image.fromarray(data, 'RGB')\\n    filled.save('filled.png')  \n",
       "28                                                                                                                                                                               Hello fellow redditors, thanks for checking this post.\\n\\n  \\n[WhatPulse is a small application that measures your keyboard/mouse usage, down- &amp; uploads and your uptime.](https://whatpulse.org/) What I care about is the keyboard and mouse usage. I just like knowing how many clicks it took for that peripheral to fail. The issue I had with Whatpulse tho is that whenever my pc shuts down unexpectedly, the data gets corrupted and I start from 0 again. That happened a couple of times and it annoyed me so much that I decided to make my own program that will achieve the same thing and will save the data in a .txt file so that I can modify it easily if I wanted.\\n\\n&amp;#x200B;\\n\\nAfter 5-10 hours of work on it, [this](https://pastebin.com/VZQntspT) is what I ended up with. I think I spent more time than I should but I would blame that on the fact that I had to learn many new things like multi-threading. I tried my best to keep the code clean but I think it still looks messy. I also used the .pyw file extension instead of .py because I don't want the terminal to open. I have around 20 hours of learning python so I don't think what I ended up with here is bad but feedback is very welcome. Feel free to tell me what I did wrong or if I could improve something. Note: I didn't stick to PEP guidelines.\\n\\n&amp;#x200B;\\n\\nKnown issues:\\n\\n\\- I have a hotkey for terminating the program which is \"left ctrl + left shift + right ctrl + right shift\". The issue is that if I pressed \"left ctrl + left shift + alt + right ctrl + right shift\" it still works.\\n\\n\\- if there is no \"Data.txt\" file or if the \"Data.txt\" file is empty, it will error. (keep that in mind if you want to try it out for yourself, it also needs to be in a specific format so [here](https://pastebin.com/u68zbEDg) is an example.)\\n\\n\\- Multiple instances of the program can be running at the same time.\\n\\n&amp;#x200B;\\n\\nFuture improvements:\\n\\n\\- Planning to add a gui. (planning to use pysimplegui or tkinter for that)\\n\\n\\- Add statistics like the frequency of each key press  \n",
       "35  Hi! I'm developing a small python script / application that simply listens to all HTTP POST requests on some port, and will then take some appropriate action (forward it to another server, execute some script locally, etc). The important thing is that it will NOT provide any response to the sender of any such request, no webpages or files will be hosted, it will not use any kind of authorization, etc. It just listens to an http endpoint, looks at the string name of that endpoint (e.g. e[xample.com/this\\_is\\_my\\_endpoint\\_name](https://example.com/this_is_my_endpoint_name)), and will execute some predefined action. I am very well aware that using libraries like Flask and aiohttp out of the box to host a website in production is **very bad practice,** but given the extreme simplicity and receiving-only nature of my \"application\" aiohttp seems perfect for my use-case (it doesn't need to be very efficient but the asynchronous handling is of course essential).\\n\\nI've been searching far and wide to find out exactly how much of a security risk I'm taking by opening such a server up to the public, but I can't find anything beyond potential authorization issues, denial of service attacks, serving files that should be protected etc. However, it seems to me that the simpler the functionality, the harder it would be to hack? Using e.g. nginx if I'm not even planning to send any response seems overkill and adds unwanted complexity. It's absolutely fine if my server would get overloaded and crash; I can always start it back up again. The only thing I care about is that **the python code of this server should never be exposed**, since it contains a few secret API keys and such. I'm not at all an expert on web security, but I find it hard to imagine how any of my information could be exposed if I don't even send any kind of response back. I also don't plan to receive any files through this server (it's just gonna parse a bunch of strings), so there shouldn't be any risk of downloading malicious data of some kind.\\n\\n&amp;#x200B;\\n\\nIf any of you have a better picture of what kinds of risks are involved with a simple \"server\" that is only a \"listener\" in practice, any insights would be very much appreciated!  \n",
       "36                                                                                                                                                                                                                                                                                                                                                                                                                                                                                                                                                                                                                                                                                                                                                                                                                                                                                                                                                                                                                                                                  &amp;#x200B;\\n\\n&amp;#x200B;\\n\\n&amp;#x200B;\\n\\nhttps://preview.redd.it/phx2iizs24f61.png?width=1920&amp;format=png&amp;auto=webp&amp;s=cdab0ce367b59500bc83fa5e3b89c1a1ad565869\\n\\nhttps://preview.redd.it/0hh0hhzs24f61.png?width=1920&amp;format=png&amp;auto=webp&amp;s=5a20c3c96c3f8ad81c32677ed2e3ac0e9c683ed2\\n\\nhttps://preview.redd.it/erv65izs24f61.png?width=1920&amp;format=png&amp;auto=webp&amp;s=fdd3df026ae0eef656f3488554900e219384819c\\n\\nhttps://preview.redd.it/df0a8jzs24f61.png?width=1920&amp;format=png&amp;auto=webp&amp;s=9bdf744a725dae8a5346057a004bf276c306f7ba\\n\\n[JigsawGenerator](https://github.com/Bollos00/JigsawGenerator) is a simple rectangular jigsaw generator written in python. \\n\\nAll the pieces of the jigsaw have the same width and height, but the connection between one piece with its neighbor is not constant, it depends from random numbers generated with the `random` module; it avoids all the connections to have the same shape.\\n\\nWith this software it is possible to load and save images on several formats and to generate the output on the svg format (like on the third image).\\n\\nCriticism about the code, suggestions and ideas for the software, anything is very appreciated.  \n",
       "40                                                                                                                                                                                                                                                                                                                                                                                                                                                                                                                                                                                                                                                                                                                                                                                                                                                                                                                                                                                                                                                                                                                                                                                                                                                                                                                                                                                                                                                                                                                                                                                                                                                                                                        IM TRYING TO POST THIS ON LEARNPYTHON BUT... I CANT. IS DELETED ALL THE TIME?? Why??\\n\\nHi all.\\n\\nI am making a small text editor that uploads the files I make to gooDrive.\\n\\nFor the gdrive thing I followed this tutorial.\\n\\n[https://medium.com/@annissouames99/how-to-upload-files-automatically-to-drive-with-python-ee19bb13dda](https://medium.com/@annissouames99/how-to-upload-files-automatically-to-drive-with-python-ee19bb13dda)\\n\\nAnd everything is fine, except that I have to enter my credentials and \"allow everything\" every time I start my program ... how can I avoid this?\\n\\nThanks!  \n",
       "44                                                                                                                                                                                                                                                                                                                                                                                                                                                                                                                                                                                                                                                                                                                                                                                                                                                                                                                                                                                                                                                                                                                                                                                                                                                                                                                                                                                                                                                                                                                                                                                                                                                                                                                Hey guys! I'm a beginner in python. I was doing some testing, and I needed a way to auto reload a module as I was changing it (so I don't need to re-run the entire code every time). I couldn't find much on google, but I didn't search too much because I saw it as a challenge. [Here](https://github.com/FunIsDangerous/ModuleAutoReload) is the end result. It works perfectly for my purpose, but I have only tested it in Windows 10 running Python 3.9, on small modules (.py modules and dir packages). Just wanted to share my first python project! Any suggestions and critisism is welcome!  \n",
       "50                                                                                                                                                                                                                                                                                                                                                                                                                                                                                                                                                                                                                                                                                                                                                                                                      Hello fellow Pythonistas,\\n\\nI recently recognized the need to have a set of standardized linters (as well as their accompanying configurations) included uniformly across all of my projects. It started with a small file that I'd copy-paste around, but as the number of times I did this grew, I realized that there was an opportunity to write a package around this that would expose a nice integration &amp; configuration interface.\\n\\nFor lack of creativity I've decided to call it \"Multilint\" (although there is another project by that name but it has been archived). Multilint allows integrating a linter (or any other CQ (code quality)) tool by subclassing `ToolRunner` and implementing `ToolRunner.run()`. There are also some other conveniences available (such as making a logger or having the relevant section of `pyproject.toml` available to the subclass) to make the integration process a little bit easier.\\n\\nWhile I definitely find a lot of value in this and will be using it in all of my personal (and work whenever possible) projects going forward, I wanted to put this project out into the community to get some feedback on it: is it something that could potentially be useful to a larger audience than myself (and maybe a few of my colleagues)? Or is it a total waste of time trying to generalize this concept?\\n\\nhttps://github.com/gkze/multilint\\n\\nWhat do you think? Would love to hear your impressions, thoughts, opinions on this.\\n\\nCheers!  \n",
       "55                                                                                                                                                                                                                                                                                                                                                                                                                                                                                                                                                                                                                                                                                                                                                                                                                                                                                                                                                                                                                                                                                                                                                                                                                                                                                                                                                                                                                                                                                                                                                                                                                                                                                                                                                                                                                                                                                                                                                                       Hi, I wrote a little python script to bulk download the photos/images from your Facebook Messenger account for a specific chat between your account and a friend's or a messenger group :\\n\\n[https://github.com/leoguillaume/fbm-image-scraper](https://github.com/leoguillaume/fbm-image-scraper)  \\nEvery informations are in the readme. Enjoy  \n",
       "68                                                                                                                                                                                                                                                                                                                                                                                                                                                                                                                                                                                                                                                                                                                                                                                                                                                                                                                                                                                                                                                                                                                                                                                                                                                                                                                                                                  Hey Squad! With all the chaos in the stock market lately, I thought now would be a good time to share this stock market data downloader I put together with some help from a [repository](https://github.com/bradlucas/get-yahoo-quotes-python) from a few years ago. For someone looking to get access to a ton of data quickly, this script can come in handy and hopefully save a bunch of time which otherwise would be wasted trying to get the yahoo-finance pip package working (which I've always had a hard time with).  I'm still using yahoo finance to download historical market data directly for any number of tickers you choose. This is my real attempt at making a program with a more hands-off style of interaction via command line arguments. Any feedback or suggestions for improvement would be appreciated! \\n\\nGit Repo: [https://github.com/melo-gonzo/StockDataDownload](https://github.com/melo-gonzo/StockDataDownload)  \n",
       "82                                                                                                                                                                                                                                                                                                                                                                                                                                                                                                                                                                                                                                                                                                                                                                                                                                                                                                                                                                                                                                                                                                                                                                                                                                                                                                                                                                                                                                                                                                                                                                                                                                                                                                                                                                                                                                                                                                                                                                                                                                                                                                                                        Hello. Im just curious. If someone installs third party library, how do we know that it doesn't contain malicious code. I know that the code is open source. But, who reviews it?  \n",
       "84                                                                                                                                                                                                                                                                                                                                                                                                                                                                                                                                                                                                                                                                                                                                                                                                                                                                                                                                                                                                                                                                                                                                                                                                                                                                                                                                                                                                                              Hey! Good people of reddit. I would like to showcase an intermediate level project I made. So here's a little background, many traders need to know when a certain stock Crosses a threshold for that there are many services and the one I used included 5-6 steps to set one trigger, so I thought that it would be nice if I could have my own bot deployed on a messaging app. Here I have built a telegram bot that allows users to set triggers for stock of their choice.\\nUsers can set triggers for multiple stock and at multiple price points. \\nI have used the following :\\n1. yfinance, alpha vantage and telegram api\\n2. Mongodb\\n\\nGithub link: https://github.com/pratik-choudhari/StockNotify\\n\\nI have added detailed readme and have kept multiple topics open for contributions. Do check it out😊\\nI would like hear from you in the comments, good or bad, anything!  \n",
       "90                                                                                                                                                                                                                                                                                                                                                                                                                                                                                                                                                                                                                                                                                                                                                                                                                                                                                                                                                                                                                                                                                                                                                                                                                                                                                                                                                                                                                                                                                                                                                                                                                                                                                                                                                                                                                                                                                                                                                                               Some algorithms I wrote in python, back in the days I was planning on maintaining this project, couldn't manage to keep with that.\\n\\nPosting here if it would help someone, or if you want to PR me for new algorithms.\\n\\n[https://github.com/emil45/computer-science-algorithms](https://github.com/emil45/computer-science-algorithms)  "
      ]
     },
     "execution_count": 106,
     "metadata": {},
     "output_type": "execute_result"
    }
   ],
   "source": [
    "df_dominant_topic.loc[df_dominant_topic['Dominant_Topic'] == 5, ['Dominant_Topic', 'Submission']].head(20)"
   ]
  },
  {
   "cell_type": "markdown",
   "metadata": {},
   "source": [
    "It seems that topic 2 is general posting and topic 5 are mostly posts asking for help. I shall update the topic list to reflect this."
   ]
  },
  {
   "cell_type": "markdown",
   "metadata": {},
   "source": [
    "* Topic 0: Game development\n",
    "* Topic 1: Code\n",
    "* Topic 2: General\n",
    "* Topic 3: Want to learn python\n",
    "* Topic 4: Github project\n",
    "* Topic 5: Help\n",
    "* Topic 6: Web Scraping\n",
    "* Topic 7: Cython\n",
    "\n"
   ]
  },
  {
   "cell_type": "markdown",
   "metadata": {},
   "source": [
    "Finally, I will add the topic labels to the dataframe."
   ]
  },
  {
   "cell_type": "code",
   "execution_count": 133,
   "metadata": {},
   "outputs": [],
   "source": [
    "# Create the conditions\n",
    "\n",
    "gm_dev = df_dominant_topic['Dominant_Topic'] == 0\n",
    "code = df_dominant_topic['Dominant_Topic'] == 1\n",
    "gnrl = df_dominant_topic['Dominant_Topic'] == 2\n",
    "lrn = df_dominant_topic['Dominant_Topic'] == 3\n",
    "ghub = df_dominant_topic['Dominant_Topic'] == 4\n",
    "hlp = df_dominant_topic['Dominant_Topic'] == 5\n",
    "scrp = df_dominant_topic['Dominant_Topic'] == 6\n",
    "cthon = df_dominant_topic['Dominant_Topic'] == 7\n",
    "\n",
    "# Assign topics to rows\n",
    "\n",
    "df_dominant_topic.loc[gm_dev, 'Topic_Label'] = 'Game Development'\n",
    "df_dominant_topic.loc[code, 'Topic_Label'] = 'Code'\n",
    "df_dominant_topic.loc[gnrl, 'Topic_Label'] = 'General'\n",
    "df_dominant_topic.loc[lrn, 'Topic_Label'] = 'Want to learn python'\n",
    "df_dominant_topic.loc[ghub, 'Topic_Label'] = 'Github project'\n",
    "df_dominant_topic.loc[hlp, 'Topic_Label'] = 'Help'\n",
    "df_dominant_topic.loc[scrp, 'Topic_Label'] = 'Web Scraping'\n",
    "df_dominant_topic.loc[cthon, 'Topic_Label'] = 'Cython'"
   ]
  },
  {
   "cell_type": "code",
   "execution_count": 134,
   "metadata": {},
   "outputs": [
    {
     "data": {
      "text/html": [
       "<div>\n",
       "<style scoped>\n",
       "    .dataframe tbody tr th:only-of-type {\n",
       "        vertical-align: middle;\n",
       "    }\n",
       "\n",
       "    .dataframe tbody tr th {\n",
       "        vertical-align: top;\n",
       "    }\n",
       "\n",
       "    .dataframe thead th {\n",
       "        text-align: right;\n",
       "    }\n",
       "</style>\n",
       "<table border=\"1\" class=\"dataframe\">\n",
       "  <thead>\n",
       "    <tr style=\"text-align: right;\">\n",
       "      <th></th>\n",
       "      <th>Document_No</th>\n",
       "      <th>Dominant_Topic</th>\n",
       "      <th>Topic_Perc_Contrib</th>\n",
       "      <th>Submission</th>\n",
       "      <th>Title</th>\n",
       "      <th>Score</th>\n",
       "      <th>num_comments</th>\n",
       "      <th>created_utc</th>\n",
       "      <th>Topic_Label</th>\n",
       "    </tr>\n",
       "  </thead>\n",
       "  <tbody>\n",
       "    <tr>\n",
       "      <th>0</th>\n",
       "      <td>0</td>\n",
       "      <td>5.0</td>\n",
       "      <td>0.8396</td>\n",
       "      <td>Hi, has anyone created python code that tests ...</td>\n",
       "      <td>Anybody have sample code to determine if a web...</td>\n",
       "      <td>4</td>\n",
       "      <td>5</td>\n",
       "      <td>1612466550</td>\n",
       "      <td>Help</td>\n",
       "    </tr>\n",
       "    <tr>\n",
       "      <th>1</th>\n",
       "      <td>1</td>\n",
       "      <td>4.0</td>\n",
       "      <td>0.4226</td>\n",
       "      <td>Just finished this project! An unfiltered revi...</td>\n",
       "      <td>Project – Find Neapolitan pizza with AI help</td>\n",
       "      <td>2</td>\n",
       "      <td>0</td>\n",
       "      <td>1612464251</td>\n",
       "      <td>Github project</td>\n",
       "    </tr>\n",
       "    <tr>\n",
       "      <th>2</th>\n",
       "      <td>2</td>\n",
       "      <td>5.0</td>\n",
       "      <td>0.3615</td>\n",
       "      <td>I agree with some of the sentiments shared in ...</td>\n",
       "      <td>In response to the \"Medium bad\" thread, here a...</td>\n",
       "      <td>9</td>\n",
       "      <td>4</td>\n",
       "      <td>1612460552</td>\n",
       "      <td>Help</td>\n",
       "    </tr>\n",
       "    <tr>\n",
       "      <th>3</th>\n",
       "      <td>3</td>\n",
       "      <td>5.0</td>\n",
       "      <td>0.7148</td>\n",
       "      <td>When do you guys know when to open source a pr...</td>\n",
       "      <td>To open source or not to open source?</td>\n",
       "      <td>3</td>\n",
       "      <td>8</td>\n",
       "      <td>1612453887</td>\n",
       "      <td>Help</td>\n",
       "    </tr>\n",
       "    <tr>\n",
       "      <th>4</th>\n",
       "      <td>4</td>\n",
       "      <td>5.0</td>\n",
       "      <td>0.4534</td>\n",
       "      <td>I made a python module which download youtube ...</td>\n",
       "      <td>How can i decrypt signature Url of YouTube Videos</td>\n",
       "      <td>2</td>\n",
       "      <td>3</td>\n",
       "      <td>1612453834</td>\n",
       "      <td>Help</td>\n",
       "    </tr>\n",
       "  </tbody>\n",
       "</table>\n",
       "</div>"
      ],
      "text/plain": [
       "   Document_No  Dominant_Topic  Topic_Perc_Contrib  \\\n",
       "0            0             5.0              0.8396   \n",
       "1            1             4.0              0.4226   \n",
       "2            2             5.0              0.3615   \n",
       "3            3             5.0              0.7148   \n",
       "4            4             5.0              0.4534   \n",
       "\n",
       "                                          Submission  \\\n",
       "0  Hi, has anyone created python code that tests ...   \n",
       "1  Just finished this project! An unfiltered revi...   \n",
       "2  I agree with some of the sentiments shared in ...   \n",
       "3  When do you guys know when to open source a pr...   \n",
       "4  I made a python module which download youtube ...   \n",
       "\n",
       "                                               Title  Score  num_comments  \\\n",
       "0  Anybody have sample code to determine if a web...      4             5   \n",
       "1       Project – Find Neapolitan pizza with AI help      2             0   \n",
       "2  In response to the \"Medium bad\" thread, here a...      9             4   \n",
       "3              To open source or not to open source?      3             8   \n",
       "4  How can i decrypt signature Url of YouTube Videos      2             3   \n",
       "\n",
       "   created_utc     Topic_Label  \n",
       "0   1612466550            Help  \n",
       "1   1612464251  Github project  \n",
       "2   1612460552            Help  \n",
       "3   1612453887            Help  \n",
       "4   1612453834            Help  "
      ]
     },
     "execution_count": 134,
     "metadata": {},
     "output_type": "execute_result"
    }
   ],
   "source": [
    "pd.reset_option('display.max_colwidth')\n",
    "\n",
    "df_dominant_topic.head()"
   ]
  },
  {
   "cell_type": "code",
   "execution_count": 135,
   "metadata": {},
   "outputs": [],
   "source": [
    "final = df_dominant_topic[['Topic_Label', 'Title', 'Score', 'Submission', 'num_comments', 'created_utc']]"
   ]
  },
  {
   "cell_type": "code",
   "execution_count": 136,
   "metadata": {},
   "outputs": [
    {
     "data": {
      "text/html": [
       "<div>\n",
       "<style scoped>\n",
       "    .dataframe tbody tr th:only-of-type {\n",
       "        vertical-align: middle;\n",
       "    }\n",
       "\n",
       "    .dataframe tbody tr th {\n",
       "        vertical-align: top;\n",
       "    }\n",
       "\n",
       "    .dataframe thead th {\n",
       "        text-align: right;\n",
       "    }\n",
       "</style>\n",
       "<table border=\"1\" class=\"dataframe\">\n",
       "  <thead>\n",
       "    <tr style=\"text-align: right;\">\n",
       "      <th></th>\n",
       "      <th>Topic_Label</th>\n",
       "      <th>Title</th>\n",
       "      <th>Score</th>\n",
       "      <th>Submission</th>\n",
       "      <th>num_comments</th>\n",
       "      <th>created_utc</th>\n",
       "    </tr>\n",
       "  </thead>\n",
       "  <tbody>\n",
       "    <tr>\n",
       "      <th>0</th>\n",
       "      <td>Help</td>\n",
       "      <td>Anybody have sample code to determine if a web...</td>\n",
       "      <td>4</td>\n",
       "      <td>Hi, has anyone created python code that tests ...</td>\n",
       "      <td>5</td>\n",
       "      <td>1612466550</td>\n",
       "    </tr>\n",
       "    <tr>\n",
       "      <th>1</th>\n",
       "      <td>Github project</td>\n",
       "      <td>Project – Find Neapolitan pizza with AI help</td>\n",
       "      <td>2</td>\n",
       "      <td>Just finished this project! An unfiltered revi...</td>\n",
       "      <td>0</td>\n",
       "      <td>1612464251</td>\n",
       "    </tr>\n",
       "    <tr>\n",
       "      <th>2</th>\n",
       "      <td>Help</td>\n",
       "      <td>In response to the \"Medium bad\" thread, here a...</td>\n",
       "      <td>9</td>\n",
       "      <td>I agree with some of the sentiments shared in ...</td>\n",
       "      <td>4</td>\n",
       "      <td>1612460552</td>\n",
       "    </tr>\n",
       "    <tr>\n",
       "      <th>3</th>\n",
       "      <td>Help</td>\n",
       "      <td>To open source or not to open source?</td>\n",
       "      <td>3</td>\n",
       "      <td>When do you guys know when to open source a pr...</td>\n",
       "      <td>8</td>\n",
       "      <td>1612453887</td>\n",
       "    </tr>\n",
       "    <tr>\n",
       "      <th>4</th>\n",
       "      <td>Help</td>\n",
       "      <td>How can i decrypt signature Url of YouTube Videos</td>\n",
       "      <td>2</td>\n",
       "      <td>I made a python module which download youtube ...</td>\n",
       "      <td>3</td>\n",
       "      <td>1612453834</td>\n",
       "    </tr>\n",
       "  </tbody>\n",
       "</table>\n",
       "</div>"
      ],
      "text/plain": [
       "      Topic_Label                                              Title  Score  \\\n",
       "0            Help  Anybody have sample code to determine if a web...      4   \n",
       "1  Github project       Project – Find Neapolitan pizza with AI help      2   \n",
       "2            Help  In response to the \"Medium bad\" thread, here a...      9   \n",
       "3            Help              To open source or not to open source?      3   \n",
       "4            Help  How can i decrypt signature Url of YouTube Videos      2   \n",
       "\n",
       "                                          Submission  num_comments  \\\n",
       "0  Hi, has anyone created python code that tests ...             5   \n",
       "1  Just finished this project! An unfiltered revi...             0   \n",
       "2  I agree with some of the sentiments shared in ...             4   \n",
       "3  When do you guys know when to open source a pr...             8   \n",
       "4  I made a python module which download youtube ...             3   \n",
       "\n",
       "   created_utc  \n",
       "0   1612466550  \n",
       "1   1612464251  \n",
       "2   1612460552  \n",
       "3   1612453887  \n",
       "4   1612453834  "
      ]
     },
     "execution_count": 136,
     "metadata": {},
     "output_type": "execute_result"
    }
   ],
   "source": [
    "final.head()"
   ]
  },
  {
   "cell_type": "code",
   "execution_count": 137,
   "metadata": {},
   "outputs": [
    {
     "name": "stderr",
     "output_type": "stream",
     "text": [
      "<ipython-input-137-8ee895449251>:1: SettingWithCopyWarning: \n",
      "A value is trying to be set on a copy of a slice from a DataFrame.\n",
      "Try using .loc[row_indexer,col_indexer] = value instead\n",
      "\n",
      "See the caveats in the documentation: https://pandas.pydata.org/pandas-docs/stable/user_guide/indexing.html#returning-a-view-versus-a-copy\n",
      "  final['Created_at'] = pd.to_datetime(final['created_utc'],unit='s')\n"
     ]
    }
   ],
   "source": [
    "final['Created_at'] = pd.to_datetime(final['created_utc'],unit='s')"
   ]
  },
  {
   "cell_type": "code",
   "execution_count": 138,
   "metadata": {
    "scrolled": false
   },
   "outputs": [
    {
     "name": "stderr",
     "output_type": "stream",
     "text": [
      "/opt/anaconda3/lib/python3.8/site-packages/pandas/core/frame.py:4163: SettingWithCopyWarning: \n",
      "A value is trying to be set on a copy of a slice from a DataFrame\n",
      "\n",
      "See the caveats in the documentation: https://pandas.pydata.org/pandas-docs/stable/user_guide/indexing.html#returning-a-view-versus-a-copy\n",
      "  return super().drop(\n"
     ]
    }
   ],
   "source": [
    "final.drop('created_utc', axis=1, inplace=True)"
   ]
  },
  {
   "cell_type": "code",
   "execution_count": 139,
   "metadata": {},
   "outputs": [
    {
     "data": {
      "text/html": [
       "<div>\n",
       "<style scoped>\n",
       "    .dataframe tbody tr th:only-of-type {\n",
       "        vertical-align: middle;\n",
       "    }\n",
       "\n",
       "    .dataframe tbody tr th {\n",
       "        vertical-align: top;\n",
       "    }\n",
       "\n",
       "    .dataframe thead th {\n",
       "        text-align: right;\n",
       "    }\n",
       "</style>\n",
       "<table border=\"1\" class=\"dataframe\">\n",
       "  <thead>\n",
       "    <tr style=\"text-align: right;\">\n",
       "      <th></th>\n",
       "      <th>Topic_Label</th>\n",
       "      <th>Title</th>\n",
       "      <th>Score</th>\n",
       "      <th>Submission</th>\n",
       "      <th>num_comments</th>\n",
       "      <th>Created_at</th>\n",
       "    </tr>\n",
       "  </thead>\n",
       "  <tbody>\n",
       "    <tr>\n",
       "      <th>0</th>\n",
       "      <td>Help</td>\n",
       "      <td>Anybody have sample code to determine if a web...</td>\n",
       "      <td>4</td>\n",
       "      <td>Hi, has anyone created python code that tests ...</td>\n",
       "      <td>5</td>\n",
       "      <td>2021-02-04 19:22:30</td>\n",
       "    </tr>\n",
       "    <tr>\n",
       "      <th>1</th>\n",
       "      <td>Github project</td>\n",
       "      <td>Project – Find Neapolitan pizza with AI help</td>\n",
       "      <td>2</td>\n",
       "      <td>Just finished this project! An unfiltered revi...</td>\n",
       "      <td>0</td>\n",
       "      <td>2021-02-04 18:44:11</td>\n",
       "    </tr>\n",
       "    <tr>\n",
       "      <th>2</th>\n",
       "      <td>Help</td>\n",
       "      <td>In response to the \"Medium bad\" thread, here a...</td>\n",
       "      <td>9</td>\n",
       "      <td>I agree with some of the sentiments shared in ...</td>\n",
       "      <td>4</td>\n",
       "      <td>2021-02-04 17:42:32</td>\n",
       "    </tr>\n",
       "    <tr>\n",
       "      <th>3</th>\n",
       "      <td>Help</td>\n",
       "      <td>To open source or not to open source?</td>\n",
       "      <td>3</td>\n",
       "      <td>When do you guys know when to open source a pr...</td>\n",
       "      <td>8</td>\n",
       "      <td>2021-02-04 15:51:27</td>\n",
       "    </tr>\n",
       "    <tr>\n",
       "      <th>4</th>\n",
       "      <td>Help</td>\n",
       "      <td>How can i decrypt signature Url of YouTube Videos</td>\n",
       "      <td>2</td>\n",
       "      <td>I made a python module which download youtube ...</td>\n",
       "      <td>3</td>\n",
       "      <td>2021-02-04 15:50:34</td>\n",
       "    </tr>\n",
       "  </tbody>\n",
       "</table>\n",
       "</div>"
      ],
      "text/plain": [
       "      Topic_Label                                              Title  Score  \\\n",
       "0            Help  Anybody have sample code to determine if a web...      4   \n",
       "1  Github project       Project – Find Neapolitan pizza with AI help      2   \n",
       "2            Help  In response to the \"Medium bad\" thread, here a...      9   \n",
       "3            Help              To open source or not to open source?      3   \n",
       "4            Help  How can i decrypt signature Url of YouTube Videos      2   \n",
       "\n",
       "                                          Submission  num_comments  \\\n",
       "0  Hi, has anyone created python code that tests ...             5   \n",
       "1  Just finished this project! An unfiltered revi...             0   \n",
       "2  I agree with some of the sentiments shared in ...             4   \n",
       "3  When do you guys know when to open source a pr...             8   \n",
       "4  I made a python module which download youtube ...             3   \n",
       "\n",
       "           Created_at  \n",
       "0 2021-02-04 19:22:30  \n",
       "1 2021-02-04 18:44:11  \n",
       "2 2021-02-04 17:42:32  \n",
       "3 2021-02-04 15:51:27  \n",
       "4 2021-02-04 15:50:34  "
      ]
     },
     "execution_count": 139,
     "metadata": {},
     "output_type": "execute_result"
    }
   ],
   "source": [
    "final.head()"
   ]
  },
  {
   "cell_type": "markdown",
   "metadata": {},
   "source": [
    "The Dataframe can now be saved into a json for analysis in another file."
   ]
  },
  {
   "cell_type": "code",
   "execution_count": 140,
   "metadata": {},
   "outputs": [],
   "source": [
    "final.to_json('py_sub_topics.json')"
   ]
  },
  {
   "cell_type": "code",
   "execution_count": null,
   "metadata": {},
   "outputs": [],
   "source": []
  }
 ],
 "metadata": {
  "kernelspec": {
   "display_name": "Python 3",
   "language": "python",
   "name": "python3"
  },
  "language_info": {
   "codemirror_mode": {
    "name": "ipython",
    "version": 3
   },
   "file_extension": ".py",
   "mimetype": "text/x-python",
   "name": "python",
   "nbconvert_exporter": "python",
   "pygments_lexer": "ipython3",
   "version": "3.8.8"
  }
 },
 "nbformat": 4,
 "nbformat_minor": 4
}
