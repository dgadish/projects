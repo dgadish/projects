{
 "cells": [
  {
   "cell_type": "markdown",
   "metadata": {},
   "source": [
    "This script to download submissions and comments from reddit is based on that written by reddit user Watchful1 and can be found from their [Github](https://github.com/Watchful1/Sketchpad/blob/master/postDownloader.py). The code has been re-written to allow the submissions to be saved as a json with only the wanted dimensions and measures and also simplify the code as not all the functionality is needed."
   ]
  },
  {
   "cell_type": "code",
   "execution_count": 1,
   "metadata": {},
   "outputs": [],
   "source": [
    "import requests\n",
    "from datetime import datetime\n",
    "import traceback\n",
    "import time\n",
    "import json\n",
    "import sys"
   ]
  },
  {
   "cell_type": "code",
   "execution_count": 4,
   "metadata": {},
   "outputs": [],
   "source": [
    "def downloadFromUrl(subreddit, filename):\n",
    "    print(f\"Saving submissions from r/{subreddit}\")\n",
    "\n",
    "    start_time = datetime.utcnow()\n",
    "    count = 0\n",
    "    submissions = {}\n",
    "    url = \"https://api.pushshift.io/reddit/submission/search?limit=1000&sort=desc&subreddit={}&before=\"\n",
    "    previous_epoch = int(start_time.timestamp()) # Current time\n",
    "    while count <= 1000:\n",
    "        new_url = url.format(subreddit)+str(previous_epoch)\n",
    "        json_text = requests.get(new_url)\n",
    "        time.sleep(1)  # pushshift has a rate limit, if we send requests too fast it will start returning error messages\n",
    "        try:\n",
    "            json_data = json_text.json()\n",
    "        except json.decoder.JSONDecodeError:\n",
    "            time.sleep(1)\n",
    "            continue\n",
    "\n",
    "        if 'data' not in json_data:\n",
    "            break\n",
    "        objects = json_data['data']\n",
    "        if len(objects) == 0:\n",
    "            break\n",
    "        \n",
    "        for object in objects:\n",
    "            previous_epoch = object['created_utc'] - 1\n",
    "            count += 1 \n",
    "            sub = {}\n",
    "            if object['is_self']:\n",
    "                if 'selftext' not in object:\n",
    "                    continue\n",
    "                try:\n",
    "                    sub['title'] = str(object['title'])\n",
    "                    sub['subreddit'] = str(object['subreddit'])\n",
    "                    sub['score'] = str(object['score'])\n",
    "                    sub['num_comments'] = str(object['num_comments'])\n",
    "                    sub['created_utc'] = str(object['created_utc'])\n",
    "                    sub['selftext'] = object['selftext']\n",
    "                except Exception as err:\n",
    "                    print(f\"Couldn't print post: {object['url']}\")\n",
    "                    print(traceback.format_exc())\n",
    "                submissions[count] = sub\n",
    "\n",
    "        print(\"Saved {} submissions through {}\".format(count, datetime.fromtimestamp(previous_epoch).strftime(\"%Y-%m-%d\")))\n",
    "\n",
    "    print(f\"Saved {count} submissions\")\n",
    "    with open(filename, 'w') as fp:\n",
    "        json.dump(submissions, fp)"
   ]
  },
  {
   "cell_type": "code",
   "execution_count": 5,
   "metadata": {
    "scrolled": false
   },
   "outputs": [
    {
     "name": "stdout",
     "output_type": "stream",
     "text": [
      "Saving submissions from r/Python\n",
      "Saved 100 submissions through 2021-02-03\n",
      "Saved 200 submissions through 2021-02-01\n",
      "Saved 300 submissions through 2021-01-31\n",
      "Saved 400 submissions through 2021-01-30\n",
      "Saved 500 submissions through 2021-01-29\n",
      "Saved 600 submissions through 2021-01-27\n",
      "Saved 700 submissions through 2021-01-25\n",
      "Saved 800 submissions through 2021-01-23\n",
      "Saved 900 submissions through 2021-01-21\n",
      "Saved 1000 submissions through 2021-01-20\n",
      "Saved 1100 submissions through 2021-01-19\n",
      "Saved 1100 submissions\n"
     ]
    }
   ],
   "source": [
    "downloadFromUrl(\"Python\", \"python_posts.json\")"
   ]
  },
  {
   "cell_type": "code",
   "execution_count": null,
   "metadata": {},
   "outputs": [],
   "source": []
  }
 ],
 "metadata": {
  "kernelspec": {
   "display_name": "Python 3",
   "language": "python",
   "name": "python3"
  },
  "language_info": {
   "codemirror_mode": {
    "name": "ipython",
    "version": 3
   },
   "file_extension": ".py",
   "mimetype": "text/x-python",
   "name": "python",
   "nbconvert_exporter": "python",
   "pygments_lexer": "ipython3",
   "version": "3.8.5"
  }
 },
 "nbformat": 4,
 "nbformat_minor": 4
}
