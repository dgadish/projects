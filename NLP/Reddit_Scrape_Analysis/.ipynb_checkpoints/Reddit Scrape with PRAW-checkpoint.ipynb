{
 "cells": [
  {
   "cell_type": "markdown",
   "metadata": {},
   "source": [
    "This code reads in the top posts from the Python subreddit"
   ]
  },
  {
   "cell_type": "markdown",
   "metadata": {},
   "source": [
    "To Do:\n",
    "\n",
    "* Add top posts from other subreddits / top overall\n",
    "* Append all to the same dataframe\n",
    "* Analyse / compare top post from different subreddits"
   ]
  },
  {
   "cell_type": "code",
   "execution_count": 1,
   "metadata": {},
   "outputs": [],
   "source": [
    "import praw\n",
    "import pandas as pd"
   ]
  },
  {
   "cell_type": "code",
   "execution_count": 2,
   "metadata": {},
   "outputs": [],
   "source": [
    "# Access the API\n",
    "\n",
    "reddit = praw.Reddit(client_id=\"nSlm7ZOTTbiDJw\",\n",
    "                     client_secret=\"83tyG_6S1fnST1lpti-DGqHCB8ovJA\",\n",
    "                     user_agent=\"Scraping Script\",\n",
    "                     username=\"AdventurousProof1465\",\n",
    "                     password=\"Haogen99\")"
   ]
  },
  {
   "cell_type": "code",
   "execution_count": 14,
   "metadata": {},
   "outputs": [],
   "source": [
    "# Scrape data from r/Python\n",
    "\n",
    "posts = []\n",
    "sub = reddit.subreddit('Python')\n",
    "\n",
    "for post in sub.top(limit=None):\n",
    "    posts.append([post.title, post.score, post.id, post.subreddit, \n",
    "                  post.url, post.num_comments, post.selftext, post.created])"
   ]
  },
  {
   "cell_type": "code",
   "execution_count": 15,
   "metadata": {},
   "outputs": [
    {
     "data": {
      "text/plain": [
       "994"
      ]
     },
     "execution_count": 15,
     "metadata": {},
     "output_type": "execute_result"
    }
   ],
   "source": [
    "len(posts)"
   ]
  },
  {
   "cell_type": "code",
   "execution_count": 16,
   "metadata": {},
   "outputs": [],
   "source": [
    "columns = ['title', 'score', 'id', 'subreddit', 'url', 'num_comments', 'body', 'created']\n",
    "posts = pd.DataFrame(posts, columns = columns)"
   ]
  },
  {
   "cell_type": "code",
   "execution_count": 22,
   "metadata": {},
   "outputs": [
    {
     "data": {
      "text/plain": [
       "0     2020-04-21 07:11:39\n",
       "1     2020-07-10 21:06:13\n",
       "2     2020-05-08 21:39:09\n",
       "3     2017-12-19 08:47:56\n",
       "4     2019-10-25 02:55:30\n",
       "              ...        \n",
       "990   2021-01-07 07:29:12\n",
       "991   2019-09-11 19:43:22\n",
       "983   2020-09-22 18:54:36\n",
       "989   2020-06-05 15:46:58\n",
       "981   2017-06-10 00:04:39\n",
       "Name: created, Length: 994, dtype: datetime64[ns]"
      ]
     },
     "execution_count": 22,
     "metadata": {},
     "output_type": "execute_result"
    }
   ],
   "source": [
    "pd.to_datetime(posts['created'], unit='s')"
   ]
  },
  {
   "cell_type": "code",
   "execution_count": 23,
   "metadata": {},
   "outputs": [],
   "source": [
    "posts['created'] = pd.to_datetime(posts['created'], unit='s')"
   ]
  },
  {
   "cell_type": "code",
   "execution_count": 24,
   "metadata": {},
   "outputs": [
    {
     "data": {
      "text/html": [
       "<div>\n",
       "<style scoped>\n",
       "    .dataframe tbody tr th:only-of-type {\n",
       "        vertical-align: middle;\n",
       "    }\n",
       "\n",
       "    .dataframe tbody tr th {\n",
       "        vertical-align: top;\n",
       "    }\n",
       "\n",
       "    .dataframe thead th {\n",
       "        text-align: right;\n",
       "    }\n",
       "</style>\n",
       "<table border=\"1\" class=\"dataframe\">\n",
       "  <thead>\n",
       "    <tr style=\"text-align: right;\">\n",
       "      <th></th>\n",
       "      <th>title</th>\n",
       "      <th>score</th>\n",
       "      <th>id</th>\n",
       "      <th>subreddit</th>\n",
       "      <th>url</th>\n",
       "      <th>num_comments</th>\n",
       "      <th>body</th>\n",
       "      <th>created</th>\n",
       "    </tr>\n",
       "  </thead>\n",
       "  <tbody>\n",
       "    <tr>\n",
       "      <th>0</th>\n",
       "      <td>Lad wrote a Python script to download Alexa vo...</td>\n",
       "      <td>11964</td>\n",
       "      <td>g53lxf</td>\n",
       "      <td>Python</td>\n",
       "      <td>https://i.redd.it/2s0dj8ob12u41.png</td>\n",
       "      <td>150</td>\n",
       "      <td></td>\n",
       "      <td>2020-04-21 07:11:39</td>\n",
       "    </tr>\n",
       "    <tr>\n",
       "      <th>1</th>\n",
       "      <td>This post has:</td>\n",
       "      <td>8869</td>\n",
       "      <td>hoolsm</td>\n",
       "      <td>Python</td>\n",
       "      <td>https://www.reddit.com/r/Python/comments/hools...</td>\n",
       "      <td>450</td>\n",
       "      <td>9777 upvotes,\\n\\n967 downvotes\\n\\nand 452 comm...</td>\n",
       "      <td>2020-07-10 21:06:13</td>\n",
       "    </tr>\n",
       "    <tr>\n",
       "      <th>2</th>\n",
       "      <td>I redesign the Python logo to make it more modern</td>\n",
       "      <td>7648</td>\n",
       "      <td>gftejm</td>\n",
       "      <td>Python</td>\n",
       "      <td>https://i.redd.it/rxezjyf4ojx41.png</td>\n",
       "      <td>271</td>\n",
       "      <td></td>\n",
       "      <td>2020-05-08 21:39:09</td>\n",
       "    </tr>\n",
       "    <tr>\n",
       "      <th>3</th>\n",
       "      <td>Automate the boring stuff with python - tinder</td>\n",
       "      <td>6617</td>\n",
       "      <td>7kpme8</td>\n",
       "      <td>Python</td>\n",
       "      <td>https://gfycat.com/PointlessSimplisticAmerican...</td>\n",
       "      <td>339</td>\n",
       "      <td></td>\n",
       "      <td>2017-12-19 08:47:56</td>\n",
       "    </tr>\n",
       "    <tr>\n",
       "      <th>4</th>\n",
       "      <td>Just finished programming and building my own ...</td>\n",
       "      <td>6447</td>\n",
       "      <td>dmkx8a</td>\n",
       "      <td>Python</td>\n",
       "      <td>https://i.redd.it/24ug9g82dju31.jpg</td>\n",
       "      <td>480</td>\n",
       "      <td></td>\n",
       "      <td>2019-10-25 02:55:30</td>\n",
       "    </tr>\n",
       "  </tbody>\n",
       "</table>\n",
       "</div>"
      ],
      "text/plain": [
       "                                               title  score      id subreddit  \\\n",
       "0  Lad wrote a Python script to download Alexa vo...  11964  g53lxf    Python   \n",
       "1                                     This post has:   8869  hoolsm    Python   \n",
       "2  I redesign the Python logo to make it more modern   7648  gftejm    Python   \n",
       "3     Automate the boring stuff with python - tinder   6617  7kpme8    Python   \n",
       "4  Just finished programming and building my own ...   6447  dmkx8a    Python   \n",
       "\n",
       "                                                 url  num_comments  \\\n",
       "0                https://i.redd.it/2s0dj8ob12u41.png           150   \n",
       "1  https://www.reddit.com/r/Python/comments/hools...           450   \n",
       "2                https://i.redd.it/rxezjyf4ojx41.png           271   \n",
       "3  https://gfycat.com/PointlessSimplisticAmerican...           339   \n",
       "4                https://i.redd.it/24ug9g82dju31.jpg           480   \n",
       "\n",
       "                                                body             created  \n",
       "0                                                    2020-04-21 07:11:39  \n",
       "1  9777 upvotes,\\n\\n967 downvotes\\n\\nand 452 comm... 2020-07-10 21:06:13  \n",
       "2                                                    2020-05-08 21:39:09  \n",
       "3                                                    2017-12-19 08:47:56  \n",
       "4                                                    2019-10-25 02:55:30  "
      ]
     },
     "execution_count": 24,
     "metadata": {},
     "output_type": "execute_result"
    }
   ],
   "source": [
    "posts.head()"
   ]
  },
  {
   "cell_type": "code",
   "execution_count": null,
   "metadata": {},
   "outputs": [],
   "source": []
  }
 ],
 "metadata": {
  "kernelspec": {
   "display_name": "Python 3",
   "language": "python",
   "name": "python3"
  },
  "language_info": {
   "codemirror_mode": {
    "name": "ipython",
    "version": 3
   },
   "file_extension": ".py",
   "mimetype": "text/x-python",
   "name": "python",
   "nbconvert_exporter": "python",
   "pygments_lexer": "ipython3",
   "version": "3.8.5"
  }
 },
 "nbformat": 4,
 "nbformat_minor": 4
}
